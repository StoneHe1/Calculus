{
 "cells": [
  {
   "cell_type": "code",
   "execution_count": 7,
   "metadata": {},
   "outputs": [
    {
     "name": "stdout",
     "output_type": "stream",
     "text": [
      "Substitution Values\n"
     ]
    },
    {
     "data": {
      "text/latex": [
       "$\\displaystyle \\rho_{1} = 997$"
      ],
      "text/plain": [
       "Eq(rho_1, 997)"
      ]
     },
     "metadata": {},
     "output_type": "display_data"
    },
    {
     "data": {
      "text/latex": [
       "$\\displaystyle P_{0} = -9780570.0$"
      ],
      "text/plain": [
       "Eq(P_0, -9780570.0)"
      ]
     },
     "metadata": {},
     "output_type": "display_data"
    },
    {
     "data": {
      "text/latex": [
       "$\\displaystyle \\mu = 0.0013076$"
      ],
      "text/plain": [
       "Eq(mu, 0.0013076)"
      ]
     },
     "metadata": {},
     "output_type": "display_data"
    },
    {
     "data": {
      "text/latex": [
       "$\\displaystyle \\sigma = 0.072$"
      ],
      "text/plain": [
       "Eq(sigma, 0.072)"
      ]
     },
     "metadata": {},
     "output_type": "display_data"
    },
    {
     "name": "stdout",
     "output_type": "stream",
     "text": [
      "\n",
      "\n",
      "Rayleigh-Plesset equation\n"
     ]
    },
    {
     "data": {
      "text/latex": [
       "$\\displaystyle \\rho_{1} \\left(R{\\left(t \\right)} \\frac{d^{2}}{d t^{2}} R{\\left(t \\right)} + \\frac{3 \\left(\\frac{d}{d t} R{\\left(t \\right)}\\right)^{2}}{2}\\right) = - P_{0} - \\frac{4 \\mu \\frac{d}{d t} R{\\left(t \\right)}}{R{\\left(t \\right)}} - \\frac{2 \\sigma}{R{\\left(t \\right)}}$"
      ],
      "text/plain": [
       "Eq(rho_1*(R(t)*Derivative(R(t), (t, 2)) + 3*Derivative(R(t), t)**2/2), -P_0 - 4*mu*Derivative(R(t), t)/R(t) - 2*sigma/R(t))"
      ]
     },
     "metadata": {},
     "output_type": "display_data"
    }
   ],
   "source": [
    "# from matplotlib import pyplot as plt\n",
    "from sympy import Symbol, Eq, Function, solve, Rational, lambdify, latex\n",
    "from IPython.display import display\n",
    "from typing import List\n",
    "\n",
    "#initialize some symbols here:\n",
    "\n",
    "rho1 = Symbol(\"rho_1\")\n",
    "t = Symbol(\"t\")\n",
    "R = Function(\"R\")(t)\n",
    "R_d1 = R.diff()\n",
    "R_d2 = R.diff().diff()\n",
    "P0 = Symbol(\"P_0\")\n",
    "mu = Symbol(\"mu\")\n",
    "sigma = Symbol(\"sigma\")\n",
    "\n",
    "variables = {\n",
    "    rho1: 997,                # Density of water\n",
    "    P0: -9.81 * 997 * 1000,   # Assume constant throughout process, pressure = density * 9.81 * height\n",
    "    mu: 0.0013076,\n",
    "    sigma: 0.072\n",
    "}\n",
    "\n",
    "print(\"Substitution Values\")\n",
    "display(\n",
    "    Eq(rho1, variables[rho1]),\n",
    "    Eq(P0, variables[P0]),\n",
    "    Eq(mu, variables[mu]),\n",
    "    Eq(sigma, variables[sigma]))\n",
    "\n",
    "\n",
    "lhs = rho1 * (R * R__ + Rational(3 / 2) * R_ ** 2)\n",
    "rhs = - P0 - 4 * mu * (1 / R) * R_ - 2 * sigma / R\n",
    "eqn = Eq(lhs, rhs)\n",
    "\n",
    "print(\"\\n\\nRayleigh-Plesset equation\")\n",
    "display(eqn)\n",
    "\n",
    "#output should be the initial values that are out"
   ]
  },
  {
   "cell_type": "code",
   "execution_count": 10,
   "metadata": {},
   "outputs": [],
   "source": [
    "#Solve the R-P eqn to get the differential terms isolated\n",
    "dRdt = solve(eqn, R_d1)\n",
    "d2R_dt2 = solve(eqn, R_d2)\n",
    "\n",
    "#display([Eq(R_d1, dRdt), Eq(R_d2, d2R_dt2)])"
   ]
  },
  {
   "cell_type": "code",
   "execution_count": 12,
   "metadata": {},
   "outputs": [],
   "source": [
    "#range kutta 4 function\n",
    "# yk+1 = yk + dt.f_mean\n",
    "#f_mean = f1/6 +f2/3 + f3\\3 + f4/6\n",
    "\n",
    "def rk4singlestep(func, tk: float, rk: float ,dt: float): \n",
    "    #runge kutta method below\n",
    "    f1 = func(rk, tk)\n",
    "    f2 = func(rk + dt/2*f1, tk + dt/2)\n",
    "    f3 = func(rk + dt/2*f2, tk + dt/2)\n",
    "    f4 = func(rk + dt*f3, tk + dt)\n",
    "    \n",
    "    return f1/6 + f2/3 + f3/3 + f4/6 \n"
   ]
  },
  {
   "cell_type": "code",
   "execution_count": null,
   "metadata": {},
   "outputs": [],
   "source": [
    "#solve the equation, start with 2nd derivative, then to 1st, then repeat for next timestep\n",
    "#initializing values:\n",
    "\n",
    "r = 100        # Starting R value\n",
    "#steps = 1400   # Number of steps to run\n",
    "dr_dt = -0.001 # Program breaks if dr_dt starts at 0\n",
    "t = 0          # Starting t value (almost always at 0)\n",
    "dt=0.01\n",
    "\n",
    "#loop the program using the inital values to solve for the eqn\n",
    "\n",
    "for x in range(0, 1400):\n",
    "    #runs loop 1400\n",
    "    t = x * dt #should start at 0 for the time step\n",
    "    "
   ]
  }
 ],
 "metadata": {
  "kernelspec": {
   "display_name": "Python 3 (ipykernel)",
   "language": "python",
   "name": "python3"
  },
  "language_info": {
   "codemirror_mode": {
    "name": "ipython",
    "version": 3
   },
   "file_extension": ".py",
   "mimetype": "text/x-python",
   "name": "python",
   "nbconvert_exporter": "python",
   "pygments_lexer": "ipython3",
   "version": "3.8.8"
  }
 },
 "nbformat": 4,
 "nbformat_minor": 1
}