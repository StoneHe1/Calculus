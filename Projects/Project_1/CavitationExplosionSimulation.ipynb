{
 "cells": [
  {
   "cell_type": "code",
   "execution_count": 1,
   "metadata": {},
   "outputs": [],
   "source": [
    "from RungeKutta4 import RungeKutta4\n",
    "from matplotlib import pyplot as plt\n",
    "from sympy import Symbol, Eq, Function, solve, Rational, lambdify, latex\n",
    "from IPython.display import display\n",
    "from typing import List"
   ]
  },
  {
   "cell_type": "code",
   "execution_count": 2,
   "metadata": {},
   "outputs": [],
   "source": [
    "# Just a function to display each equation from Sympy in a visually pleasing latex form\n",
    "def print_equations(equations: List):\n",
    "    for equation in equations:\n",
    "        display(equation)"
   ]
  },
  {
   "cell_type": "markdown",
   "metadata": {},
   "source": [
    "## Creating the Rayleigh-Plesset in SymPy\n",
    "I am using SymPy to help simplify the equation. Please view the paper in this assignment to see me manually derive this type of equation by hand. I employed SymPy to make sure I didn't input any wrong variable or accidentally add instead of subtract. You know, the main reason why I don't do well on your exams 😒\n",
    "\n",
    "Another reason why I am using sympy is that in the event I need to alter an equation or redo a few things, I don't have to do it from scratch, but just plug and chug with SymPy.\n",
    "\n",
    "### IMPORTANT NOTE\n",
    "I am NOT using sympy to substitute for the RK4 method, which I have imported above. My RK4 method works genuinely and according to the class requirements. What sympy will do is convert the Rayleigh-Plesset equation into the formats I want (You can see the manual derivation of it in the lab report / paper). The simplified format will then be converted into a numpy-type lambidfy which can be used in place of a function/method in my RK4 class,"
   ]
  },
  {
   "cell_type": "code",
   "execution_count": 26,
   "metadata": {},
   "outputs": [
    {
     "name": "stdout",
     "output_type": "stream",
     "text": [
      "Substitution Values\n"
     ]
    },
    {
     "data": {
      "text/latex": [
       "$\\displaystyle \\rho_{1} = 997$"
      ],
      "text/plain": [
       "Eq(rho_1, 997)"
      ]
     },
     "metadata": {},
     "output_type": "display_data"
    },
    {
     "data": {
      "text/latex": [
       "$\\displaystyle P_{0} = -9780570.0$"
      ],
      "text/plain": [
       "Eq(P_0, -9780570.0)"
      ]
     },
     "metadata": {},
     "output_type": "display_data"
    },
    {
     "data": {
      "text/latex": [
       "$\\displaystyle \\mu = 0.0013076$"
      ],
      "text/plain": [
       "Eq(mu, 0.0013076)"
      ]
     },
     "metadata": {},
     "output_type": "display_data"
    },
    {
     "data": {
      "text/latex": [
       "$\\displaystyle \\sigma = 0.072$"
      ],
      "text/plain": [
       "Eq(sigma, 0.072)"
      ]
     },
     "metadata": {},
     "output_type": "display_data"
    },
    {
     "name": "stdout",
     "output_type": "stream",
     "text": [
      "\n",
      "\n",
      "Rayleigh-Plesset equation\n"
     ]
    },
    {
     "data": {
      "text/latex": [
       "$\\displaystyle \\rho_{1} \\left(R{\\left(t \\right)} \\frac{d^{2}}{d t^{2}} R{\\left(t \\right)} + \\frac{3 \\left(\\frac{d}{d t} R{\\left(t \\right)}\\right)^{2}}{2}\\right) = - P_{0} - \\frac{4 \\mu \\frac{d}{d t} R{\\left(t \\right)}}{R{\\left(t \\right)}} - \\frac{2 \\sigma}{R{\\left(t \\right)}}$"
      ],
      "text/plain": [
       "Eq(rho_1*(R(t)*Derivative(R(t), (t, 2)) + 3*Derivative(R(t), t)**2/2), -P_0 - 4*mu*Derivative(R(t), t)/R(t) - 2*sigma/R(t))"
      ]
     },
     "metadata": {},
     "output_type": "display_data"
    }
   ],
   "source": [
    "rho1 = Symbol(\"rho_1\")\n",
    "t = Symbol(\"t\")\n",
    "R = Function(\"R\")(t)\n",
    "R_ = R.diff()\n",
    "R__ = R.diff().diff()\n",
    "P0 = Symbol(\"P_0\")\n",
    "mu = Symbol(\"mu\")\n",
    "sigma = Symbol(\"sigma\")\n",
    "\n",
    "variables = {\n",
    "    rho1: 997,                # Density of water\n",
    "    P0: -9.81 * 997 * 1000,   # Assume constant throughout process\n",
    "    mu: 0.0013076,\n",
    "    sigma: 0.072\n",
    "}\n",
    "print(\"Substitution Values\")\n",
    "print_equations([\n",
    "    Eq(rho1, variables[rho1]),\n",
    "    Eq(P0, variables[P0]),\n",
    "    Eq(mu, variables[mu]),\n",
    "    Eq(sigma, variables[sigma]),\n",
    "])\n",
    "\n",
    "\n",
    "lhs = rho1 * (R * R__ + Rational(3 / 2) * R_ ** 2)\n",
    "rhs = - P0 - 4 * mu * (1 / R) * R_ - 2 * sigma / R\n",
    "eqn = Eq(lhs, rhs)\n",
    "\n",
    "print(\"\\n\\nRayleigh-Plesset equation\")\n",
    "print_equations([eqn])"
   ]
  },
  {
   "cell_type": "code",
   "execution_count": 4,
   "metadata": {},
   "outputs": [
    {
     "data": {
      "text/latex": [
       "$\\displaystyle \\frac{d}{d t} R{\\left(t \\right)} = \\frac{- \\frac{4 \\mu}{3} + \\frac{\\sqrt{- 6 P_{0} \\rho_{1} R^{2}{\\left(t \\right)} + 16 \\mu^{2} - 6 \\rho_{1}^{2} R^{3}{\\left(t \\right)} \\frac{d^{2}}{d t^{2}} R{\\left(t \\right)} - 12 \\rho_{1} \\sigma R{\\left(t \\right)}}}{3}}{\\rho_{1} R{\\left(t \\right)}}$"
      ],
      "text/plain": [
       "Eq(Derivative(R(t), t), (-4*mu/3 + sqrt(-6*P_0*rho_1*R(t)**2 + 16*mu**2 - 6*rho_1**2*R(t)**3*Derivative(R(t), (t, 2)) - 12*rho_1*sigma*R(t))/3)/(rho_1*R(t)))"
      ]
     },
     "metadata": {},
     "output_type": "display_data"
    },
    {
     "data": {
      "text/latex": [
       "$\\displaystyle \\frac{d}{d t} R{\\left(t \\right)} = - \\frac{\\frac{4 \\mu}{3} + \\frac{\\sqrt{- 6 P_{0} \\rho_{1} R^{2}{\\left(t \\right)} + 16 \\mu^{2} - 6 \\rho_{1}^{2} R^{3}{\\left(t \\right)} \\frac{d^{2}}{d t^{2}} R{\\left(t \\right)} - 12 \\rho_{1} \\sigma R{\\left(t \\right)}}}{3}}{\\rho_{1} R{\\left(t \\right)}}$"
      ],
      "text/plain": [
       "Eq(Derivative(R(t), t), -(4*mu/3 + sqrt(-6*P_0*rho_1*R(t)**2 + 16*mu**2 - 6*rho_1**2*R(t)**3*Derivative(R(t), (t, 2)) - 12*rho_1*sigma*R(t))/3)/(rho_1*R(t)))"
      ]
     },
     "metadata": {},
     "output_type": "display_data"
    },
    {
     "data": {
      "text/latex": [
       "$\\displaystyle \\frac{d^{2}}{d t^{2}} R{\\left(t \\right)} = - \\frac{P_{0} R{\\left(t \\right)} + 4 \\mu \\frac{d}{d t} R{\\left(t \\right)} + \\frac{3 \\rho_{1} R{\\left(t \\right)} \\left(\\frac{d}{d t} R{\\left(t \\right)}\\right)^{2}}{2} + 2 \\sigma}{\\rho_{1} R^{2}{\\left(t \\right)}}$"
      ],
      "text/plain": [
       "Eq(Derivative(R(t), (t, 2)), -(P_0*R(t) + 4*mu*Derivative(R(t), t) + 3*rho_1*R(t)*Derivative(R(t), t)**2/2 + 2*sigma)/(rho_1*R(t)**2))"
      ]
     },
     "metadata": {},
     "output_type": "display_data"
    }
   ],
   "source": [
    "# Solve the equations for the first and second derivatives\n",
    "# Note that for the first derivative, we get two potential answers. We'll explore each of those answers later\n",
    "dRdt1, dRdt2 = solve(eqn, R_)\n",
    "d2Rdt2 = solve(eqn, R__)[0]\n",
    "\n",
    "print_equations([Eq(R_, dRdt1), Eq(R_, dRdt2), Eq(R__, d2Rdt2)])"
   ]
  },
  {
   "cell_type": "code",
   "execution_count": 5,
   "metadata": {},
   "outputs": [
    {
     "data": {
      "text/latex": [
       "$\\displaystyle \\frac{d}{d t} R{\\left(t \\right)} = \\frac{80.8702664766229 \\left(- 0.000101936799184506 R^{3}{\\left(t \\right)} \\frac{d^{2}}{d t^{2}} R{\\left(t \\right)} + R^{2}{\\left(t \\right)} - 1.47230682874311 \\cdot 10^{-8} R{\\left(t \\right)} + 4.67583558816124 \\cdot 10^{-16}\\right)^{0.5} - 1.74871280508191 \\cdot 10^{-6}}{R{\\left(t \\right)}}$"
      ],
      "text/plain": [
       "Eq(Derivative(R(t), t), (80.8702664766229*(-0.000101936799184506*R(t)**3*Derivative(R(t), (t, 2)) + R(t)**2 - 1.47230682874311e-8*R(t) + 4.67583558816124e-16)**0.5 - 1.74871280508191e-6)/R(t))"
      ]
     },
     "metadata": {},
     "output_type": "display_data"
    },
    {
     "data": {
      "text/latex": [
       "$\\displaystyle \\frac{d}{d t} R{\\left(t \\right)} = - \\frac{80.8702664766229 \\left(- 0.000101936799184506 R^{3}{\\left(t \\right)} \\frac{d^{2}}{d t^{2}} R{\\left(t \\right)} + R^{2}{\\left(t \\right)} - 1.47230682874311 \\cdot 10^{-8} R{\\left(t \\right)} + 4.67583558816124 \\cdot 10^{-16}\\right)^{0.5} + 1.74871280508191 \\cdot 10^{-6}}{R{\\left(t \\right)}}$"
      ],
      "text/plain": [
       "Eq(Derivative(R(t), t), -(80.8702664766229*(-0.000101936799184506*R(t)**3*Derivative(R(t), (t, 2)) + R(t)**2 - 1.47230682874311e-8*R(t) + 4.67583558816124e-16)**0.5 + 1.74871280508191e-6)/R(t))"
      ]
     },
     "metadata": {},
     "output_type": "display_data"
    },
    {
     "data": {
      "text/latex": [
       "$\\displaystyle \\frac{d^{2}}{d t^{2}} R{\\left(t \\right)} = \\frac{0.5 \\left(- 3.0 R{\\left(t \\right)} \\left(\\frac{d}{d t} R{\\left(t \\right)}\\right)^{2} + 19620.0 R{\\left(t \\right)} - 1.04922768304915 \\cdot 10^{-5} \\frac{d}{d t} R{\\left(t \\right)} - 0.000288866599799398\\right)}{R^{2}{\\left(t \\right)}}$"
      ],
      "text/plain": [
       "Eq(Derivative(R(t), (t, 2)), 0.5*(-3.0*R(t)*Derivative(R(t), t)**2 + 19620.0*R(t) - 1.04922768304915e-5*Derivative(R(t), t) - 0.000288866599799398)/R(t)**2)"
      ]
     },
     "metadata": {},
     "output_type": "display_data"
    }
   ],
   "source": [
    "# Substitute \n",
    "dRdt1 = dRdt1.subs(variables).simplify().evalf()\n",
    "dRdt2 = dRdt2.subs(variables).simplify().evalf()\n",
    "d2Rdt2 = d2Rdt2.subs(variables).simplify().evalf()\n",
    "\n",
    "print_equations([Eq(R_, dRdt1), Eq(R_, dRdt2), Eq(R__, d2Rdt2)])"
   ]
  },
  {
   "cell_type": "code",
   "execution_count": 6,
   "metadata": {},
   "outputs": [],
   "source": [
    "function_dR_dt1 = lambdify([R, R__, t], dRdt1)\n",
    "function_dR_dt2 = lambdify([R, R__, t], dRdt2)\n",
    "\n",
    "function_d2R_dt2 = lambdify([R, R_, t], d2Rdt2)"
   ]
  },
  {
   "cell_type": "code",
   "execution_count": 7,
   "metadata": {},
   "outputs": [],
   "source": [
    "function = RungeKutta4(\n",
    "    dt=0.01,\n",
    "    dr_dt=function_dR_dt2,\n",
    "    d2r_dt2=function_d2R_dt2\n",
    ")"
   ]
  },
  {
   "cell_type": "code",
   "execution_count": 49,
   "metadata": {},
   "outputs": [
    {
     "data": {
      "application/vnd.jupyter.widget-view+json": {
       "model_id": "94447c304c53450f8b4cb21451c64f21",
       "version_major": 2,
       "version_minor": 0
      },
      "text/plain": [
       "Generating values:   0%|          | 0/1400 [00:00<?, ?it/s]"
      ]
     },
     "metadata": {},
     "output_type": "display_data"
    },
    {
     "data": {
      "text/plain": [
       "dict_keys(['r', 'dr_dt', 'd2r_dt2', 't'])"
      ]
     },
     "execution_count": 49,
     "metadata": {},
     "output_type": "execute_result"
    }
   ],
   "source": [
    "data = function(\n",
    "    r=100,           # Starting R value\n",
    "    dr_dt=-0.001,    # Program breaks if dr_dt starts at 0\n",
    "    t=0,             # Starting t value (almost always at 0)\n",
    "    steps=1400       # Number of steps to run\n",
    ")\n",
    "data.keys()"
   ]
  },
  {
   "cell_type": "code",
   "execution_count": 50,
   "metadata": {},
   "outputs": [
    {
     "data": {
      "text/plain": [
       "[<matplotlib.lines.Line2D at 0x2f9121ab250>]"
      ]
     },
     "execution_count": 50,
     "metadata": {},
     "output_type": "execute_result"
    },
    {
     "data": {
      "image/png": "[encoded data removed]",
      "text/plain": [
       "<Figure size 432x288 with 1 Axes>"
      ]
     },
     "metadata": {
      "needs_background": "light"
     },
     "output_type": "display_data"
    }
   ],
   "source": [
    "plt.plot(data[\"t\"], data[\"r\"])"
   ]
  },
  {
   "cell_type": "code",
   "execution_count": 19,
   "metadata": {},
   "outputs": [
    {
     "data": {
      "text/plain": [
       "[<matplotlib.lines.Line2D at 0x2f909998c40>]"
      ]
     },
     "execution_count": 19,
     "metadata": {},
     "output_type": "execute_result"
    },
    {
     "data": {
      "image/png": "[encoded data removed]",
      "text/plain": [
       "<Figure size 432x288 with 1 Axes>"
      ]
     },
     "metadata": {
      "needs_background": "light"
     },
     "output_type": "display_data"
    }
   ],
   "source": [
    "plt.plot(data[\"t\"], data[\"dr_dt\"])"
   ]
  },
  {
   "cell_type": "code",
   "execution_count": 12,
   "metadata": {},
   "outputs": [
    {
     "data": {
      "text/plain": [
       "[<matplotlib.lines.Line2D at 0x2f908178730>]"
      ]
     },
     "execution_count": 12,
     "metadata": {},
     "output_type": "execute_result"
    },
    {
     "data": {
      "image/png": "[encoded data removed]",
      "text/plain": [
       "<Figure size 432x288 with 1 Axes>"
      ]
     },
     "metadata": {
      "needs_background": "light"
     },
     "output_type": "display_data"
    }
   ],
   "source": [
    "plt.plot(data[\"t\"], data[\"d2r_dt2\"])"
   ]
  },
  {
   "cell_type": "code",
   "execution_count": null,
   "metadata": {},
   "outputs": [],
   "source": []
  }
 ],
 "metadata": {
  "kernelspec": {
   "display_name": "Python 3 (ipykernel)",
   "language": "python",
   "name": "python3"
  },
  "language_info": {
   "codemirror_mode": {
    "name": "ipython",
    "version": 3
   },
   "file_extension": ".py",
   "mimetype": "text/x-python",
   "name": "python",
   "nbconvert_exporter": "python",
   "pygments_lexer": "ipython3",
   "version": "3.9.2"
  },
  "widgets": {
   "application/vnd.jupyter.widget-state+json": {
    "state": {
     "003b7a1821914263889016c461978c55": {
      "model_module": "@jupyter-widgets/controls",
      "model_module_version": "1.5.0",
      "model_name": "HBoxModel",
      "state": {
       "children": [
        "IPY_MODEL_595296b433524b9e9a76abf3d9e083aa",
        "IPY_MODEL_6aaeaa63495b4235b995095090a4b6da",
        "IPY_MODEL_fb5aea7c44834ecaacc3f8ee1669de62"
       ],
       "layout": "IPY_MODEL_b7557e388ded44058d631bcfed68e34f"
      }
     },
     "00a86818bbfb4935a8ddf0f8564101cd": {
      "model_module": "@jupyter-widgets/base",
      "model_module_version": "1.2.0",
      "model_name": "LayoutModel",
      "state": {}
     },
     "01010f341a0b46f19190c8cbe510aa43": {
      "model_module": "@jupyter-widgets/controls",
      "model_module_version": "1.5.0",
      "model_name": "HTMLModel",
      "state": {
       "layout": "IPY_MODEL_9975d377b9b641a8b28e831c20e18dc9",
       "style": "IPY_MODEL_843b3ea8b6c34f56a2cf5640fd62e47d",
       "value": " 0/1000 [00:00&lt;?, ?it/s]"
      }
     },
     "02971568b87c46be89223949286eb347": {
      "model_module": "@jupyter-widgets/base",
      "model_module_version": "1.2.0",
      "model_name": "LayoutModel",
      "state": {}
     },
     "0317848ae09e4c7db8869354fb3f21e6": {
      "model_module": "@jupyter-widgets/controls",
      "model_module_version": "1.5.0",
      "model_name": "ProgressStyleModel",
      "state": {
       "description_width": ""
      }
     },
     "0322c8acd3324b72ab9623e25c04ca87": {
      "model_module": "@jupyter-widgets/base",
      "model_module_version": "1.2.0",
      "model_name": "LayoutModel",
      "state": {}
     },
     "03fe69c5fed84e0eade447a11491dbeb": {
      "model_module": "@jupyter-widgets/controls",
      "model_module_version": "1.5.0",
      "model_name": "FloatProgressModel",
      "state": {
       "bar_style": "success",
       "layout": "IPY_MODEL_7ffa030e990843a08ced587d03c1e33c",
       "max": 1000,
       "style": "IPY_MODEL_5807371ac1e04229bc4029f72f2a4b32",
       "value": 1000
      }
     },
     "0411105a1e8446a09079622543be07a2": {
      "model_module": "@jupyter-widgets/base",
      "model_module_version": "1.2.0",
      "model_name": "LayoutModel",
      "state": {}
     },
     "04a59972962d4541ba543b028b9ce7bd": {
      "model_module": "@jupyter-widgets/base",
      "model_module_version": "1.2.0",
      "model_name": "LayoutModel",
      "state": {}
     },
     "055218f543324eca8b318b8682da9479": {
      "model_module": "@jupyter-widgets/controls",
      "model_module_version": "1.5.0",
      "model_name": "HBoxModel",
      "state": {
       "children": [
        "IPY_MODEL_908e4c1dae62479bbe351a9de9ec2f5d",
        "IPY_MODEL_d66eb8ffda814ef8986b923c262dab73",
        "IPY_MODEL_d1fbd3f4fda441b6a9778abcf545a256"
       ],
       "layout": "IPY_MODEL_207a30af927e49098d991736c742b4ea"
      }
     },
     "0582f62fa8b54f18aa3c5b7adb24d557": {
      "model_module": "@jupyter-widgets/controls",
      "model_module_version": "1.5.0",
      "model_name": "HTMLModel",
      "state": {
       "layout": "IPY_MODEL_a57687b99d4f46109af295117aba8d5d",
       "style": "IPY_MODEL_0c5f5e45af0949f68aaf049111ac54b7",
       "value": "Generating values: 100%"
      }
     },
     "05a7d9b492484988890847de462332cf": {
      "model_module": "@jupyter-widgets/controls",
      "model_module_version": "1.5.0",
      "model_name": "FloatProgressModel",
      "state": {
       "bar_style": "success",
       "layout": "IPY_MODEL_1b7c2a9ceefe4a43aaf6aba5fe5be790",
       "max": 1400,
       "style": "IPY_MODEL_155eda666a7d4dfc9f2bf293634ed92b",
       "value": 1400
      }
     },
     "063004eb2f634dfebb0ceef11e25a9f7": {
      "model_module": "@jupyter-widgets/controls",
      "model_module_version": "1.5.0",
      "model_name": "HBoxModel",
      "state": {
       "children": [
        "IPY_MODEL_9ec8bcd5cf1a4fd2ac3420cd0b3f6e34",
        "IPY_MODEL_b89fa731b39546bcb7bfe3eeeb5947e7",
        "IPY_MODEL_612ed7252a464edd86e5ea7e97b8fb5c"
       ],
       "layout": "IPY_MODEL_6fc66e1203514abb81d77b150f70cfbd"
      }
     },
     "0726d30b276743bfb4bb988b446f0c2b": {
      "model_module": "@jupyter-widgets/controls",
      "model_module_version": "1.5.0",
      "model_name": "DescriptionStyleModel",
      "state": {
       "description_width": ""
      }
     },
     "0830ba9ed52a44dab8ebacbd17997068": {
      "model_module": "@jupyter-widgets/controls",
      "model_module_version": "1.5.0",
      "model_name": "HTMLModel",
      "state": {
       "layout": "IPY_MODEL_e2084d5d444c47d0a703fae59fa9a918",
       "style": "IPY_MODEL_51c8865e3a4d4faf93dbd65c463cdc8d",
       "value": "Generating values: 100%"
      }
     },
     "0937b284686344b7ac753bc1e7385ab0": {
      "model_module": "@jupyter-widgets/base",
      "model_module_version": "1.2.0",
      "model_name": "LayoutModel",
      "state": {}
     },
     "09aa77ff5e5b4ad9a536211311ff46f4": {
      "model_module": "@jupyter-widgets/controls",
      "model_module_version": "1.5.0",
      "model_name": "FloatProgressModel",
      "state": {
       "bar_style": "success",
       "layout": "IPY_MODEL_f3860cb6fc3847b9bce0a95c3dcf13c2",
       "max": 100000,
       "style": "IPY_MODEL_b464238ac9ee4970819f9d206487ec9f",
       "value": 100000
      }
     },
     "0ab47962dda84dc8bb3923642562b69c": {
      "model_module": "@jupyter-widgets/controls",
      "model_module_version": "1.5.0",
      "model_name": "DescriptionStyleModel",
      "state": {
       "description_width": ""
      }
     },
     "0bfa1b8276994ea89910b25435f3372c": {
      "model_module": "@jupyter-widgets/base",
      "model_module_version": "1.2.0",
      "model_name": "LayoutModel",
      "state": {}
     },
     "0c52b99152aa43e9aef387b02fef2f42": {
      "model_module": "@jupyter-widgets/controls",
      "model_module_version": "1.5.0",
      "model_name": "HBoxModel",
      "state": {
       "children": [
        "IPY_MODEL_e01283bd5c0b43ff938e98b90add19bf",
        "IPY_MODEL_6714fbb8b9124927a86c157428dde77a",
        "IPY_MODEL_ac508696eb8049f6a0aeb8b73139e9d1"
       ],
       "layout": "IPY_MODEL_f80fcb6b6bea4d04b240b6a655abfdc9"
      }
     },
     "0c5f5e45af0949f68aaf049111ac54b7": {
      "model_module": "@jupyter-widgets/controls",
      "model_module_version": "1.5.0",
      "model_name": "DescriptionStyleModel",
      "state": {
       "description_width": ""
      }
     },
     "0d1ce6cab8b14c4d922b81d0cf62f0f7": {
      "model_module": "@jupyter-widgets/controls",
      "model_module_version": "1.5.0",
      "model_name": "DescriptionStyleModel",
      "state": {
       "description_width": ""
      }
     },
     "0da6ae2c35da43d68ddf3d5c2ef2ac4b": {
      "model_module": "@jupyter-widgets/base",
      "model_module_version": "1.2.0",
      "model_name": "LayoutModel",
      "state": {}
     },
     "0e587620787f4fb7b63cc1c7ef8048a6": {
      "model_module": "@jupyter-widgets/controls",
      "model_module_version": "1.5.0",
      "model_name": "FloatProgressModel",
      "state": {
       "bar_style": "success",
       "layout": "IPY_MODEL_0f6d4fe8325b4a7399d3f98d40763f26",
       "max": 100000,
       "style": "IPY_MODEL_18b60ecdad574640bbc48148faafd278",
       "value": 100000
      }
     },
     "0f6d4fe8325b4a7399d3f98d40763f26": {
      "model_module": "@jupyter-widgets/base",
      "model_module_version": "1.2.0",
      "model_name": "LayoutModel",
      "state": {}
     },
     "106504994535495f8ab1e38817294524": {
      "model_module": "@jupyter-widgets/controls",
      "model_module_version": "1.5.0",
      "model_name": "DescriptionStyleModel",
      "state": {
       "description_width": ""
      }
     },
     "10714a001ede423794b7c05a71998a2d": {
      "model_module": "@jupyter-widgets/base",
      "model_module_version": "1.2.0",
      "model_name": "LayoutModel",
      "state": {}
     },
     "1117310d3336491db559e36c7d6ec9d1": {
      "model_module": "@jupyter-widgets/base",
      "model_module_version": "1.2.0",
      "model_name": "LayoutModel",
      "state": {}
     },
     "111a66a8e5ec4f11939eb6ffd1a0a584": {
      "model_module": "@jupyter-widgets/base",
      "model_module_version": "1.2.0",
      "model_name": "LayoutModel",
      "state": {}
     },
     "126751a4be4548d58c43dbe2b039d9b6": {
      "model_module": "@jupyter-widgets/base",
      "model_module_version": "1.2.0",
      "model_name": "LayoutModel",
      "state": {}
     },
     "132737334d73453b808fe6e076e9889a": {
      "model_module": "@jupyter-widgets/base",
      "model_module_version": "1.2.0",
      "model_name": "LayoutModel",
      "state": {}
     },
     "13313ad00b504472b705a0baaa20d6a4": {
      "model_module": "@jupyter-widgets/controls",
      "model_module_version": "1.5.0",
      "model_name": "HBoxModel",
      "state": {
       "children": [
        "IPY_MODEL_2276dd69640041d7ba9a1fb0757208d1",
        "IPY_MODEL_5774f11b268745ca876e2643b6b5c5e8",
        "IPY_MODEL_34549e8deb5a4af99b6f4ba99dbb4696"
       ],
       "layout": "IPY_MODEL_27173c187d1347c399b43c69b4587006"
      }
     },
     "134eeff889e2417fa4621866f9c6c147": {
      "model_module": "@jupyter-widgets/controls",
      "model_module_version": "1.5.0",
      "model_name": "FloatProgressModel",
      "state": {
       "bar_style": "danger",
       "layout": "IPY_MODEL_406e047e1e1a40c7be3d0a343e13e40c",
       "max": 1000,
       "style": "IPY_MODEL_32188aafa12848608f6c5716ecfb735f"
      }
     },
     "146906d1f86442b097fe92d094cd19c8": {
      "model_module": "@jupyter-widgets/controls",
      "model_module_version": "1.5.0",
      "model_name": "DescriptionStyleModel",
      "state": {
       "description_width": ""
      }
     },
     "14df38f8e6ad459b9410f4ffdabf503d": {
      "model_module": "@jupyter-widgets/controls",
      "model_module_version": "1.5.0",
      "model_name": "HTMLModel",
      "state": {
       "layout": "IPY_MODEL_511ad99f31a847abb68c440b8cc20c05",
       "style": "IPY_MODEL_3caa194833db4303b66c56a6698c75fc",
       "value": "Generating values: 100%"
      }
     },
     "14e83271d8d64720a027e20c35252d80": {
      "model_module": "@jupyter-widgets/controls",
      "model_module_version": "1.5.0",
      "model_name": "DescriptionStyleModel",
      "state": {
       "description_width": ""
      }
     },
     "1507fd09ec404d23bc32ba2567f9a431": {
      "model_module": "@jupyter-widgets/controls",
      "model_module_version": "1.5.0",
      "model_name": "HBoxModel",
      "state": {
       "children": [
        "IPY_MODEL_2cebd30cfe1542b78d4451efa29e0796",
        "IPY_MODEL_cc8cbea20cec4ff5865e9f1dad91ff75",
        "IPY_MODEL_5bd33c43a20d446d83395c73a638e27b"
       ],
       "layout": "IPY_MODEL_50cb6f22b57244e8879e1d479dfbaac1"
      }
     },
     "155eda666a7d4dfc9f2bf293634ed92b": {
      "model_module": "@jupyter-widgets/controls",
      "model_module_version": "1.5.0",
      "model_name": "ProgressStyleModel",
      "state": {
       "description_width": ""
      }
     },
     "162318435a464af7ae2f980596d98bd7": {
      "model_module": "@jupyter-widgets/controls",
      "model_module_version": "1.5.0",
      "model_name": "HTMLModel",
      "state": {
       "layout": "IPY_MODEL_83c4aa21d88c45fdbc549f97b64625fb",
       "style": "IPY_MODEL_55629b6d6f6348658d1291bfb19a7113",
       "value": " 100000/100000 [00:00&lt;00:00, 229837.19it/s]"
      }
     },
     "17ce0e637e04481993f87b7068b70eb0": {
      "model_module": "@jupyter-widgets/base",
      "model_module_version": "1.2.0",
      "model_name": "LayoutModel",
      "state": {}
     },
     "1835321f155f4729a1dcdf10136b3e0e": {
      "model_module": "@jupyter-widgets/base",
      "model_module_version": "1.2.0",
      "model_name": "LayoutModel",
      "state": {}
     },
     "18a66c5a3e62492c9cac86b48c638270": {
      "model_module": "@jupyter-widgets/base",
      "model_module_version": "1.2.0",
      "model_name": "LayoutModel",
      "state": {}
     },
     "18b60ecdad574640bbc48148faafd278": {
      "model_module": "@jupyter-widgets/controls",
      "model_module_version": "1.5.0",
      "model_name": "ProgressStyleModel",
      "state": {
       "description_width": ""
      }
     },
     "18c783545be14758996ea598dd2ae9ab": {
      "model_module": "@jupyter-widgets/controls",
      "model_module_version": "1.5.0",
      "model_name": "ProgressStyleModel",
      "state": {
       "description_width": ""
      }
     },
     "1976151fd98243948720c4dd2244f92c": {
      "model_module": "@jupyter-widgets/controls",
      "model_module_version": "1.5.0",
      "model_name": "DescriptionStyleModel",
      "state": {
       "description_width": ""
      }
     },
     "1986b44a2a264f7196764b9cb27c2f2b": {
      "model_module": "@jupyter-widgets/controls",
      "model_module_version": "1.5.0",
      "model_name": "ProgressStyleModel",
      "state": {
       "description_width": ""
      }
     },
     "19a27039f6ef41cd8ee0b125674cce73": {
      "model_module": "@jupyter-widgets/controls",
      "model_module_version": "1.5.0",
      "model_name": "DescriptionStyleModel",
      "state": {
       "description_width": ""
      }
     },
     "1b717ceb9eed4e6b82cfbfee40326fe1": {
      "model_module": "@jupyter-widgets/controls",
      "model_module_version": "1.5.0",
      "model_name": "DescriptionStyleModel",
      "state": {
       "description_width": ""
      }
     },
     "1b7c2a9ceefe4a43aaf6aba5fe5be790": {
      "model_module": "@jupyter-widgets/base",
      "model_module_version": "1.2.0",
      "model_name": "LayoutModel",
      "state": {}
     },
     "1dd0e008d561463693d89c685122e1eb": {
      "model_module": "@jupyter-widgets/controls",
      "model_module_version": "1.5.0",
      "model_name": "DescriptionStyleModel",
      "state": {
       "description_width": ""
      }
     },
     "1e10df7e693b44b9a0745cec1205d990": {
      "model_module": "@jupyter-widgets/controls",
      "model_module_version": "1.5.0",
      "model_name": "FloatProgressModel",
      "state": {
       "bar_style": "success",
       "layout": "IPY_MODEL_cbff8183b85147edb30a758f71b0e2ae",
       "max": 3000,
       "style": "IPY_MODEL_2bd9bc4f45b84c77b6571a9a67ce091d",
       "value": 3000
      }
     },
     "1f2bcc6506674717a02ec6b0ca583de9": {
      "model_module": "@jupyter-widgets/base",
      "model_module_version": "1.2.0",
      "model_name": "LayoutModel",
      "state": {}
     },
     "207a30af927e49098d991736c742b4ea": {
      "model_module": "@jupyter-widgets/base",
      "model_module_version": "1.2.0",
      "model_name": "LayoutModel",
      "state": {}
     },
     "211b66692d3d4050b6198dc68ceeb23c": {
      "model_module": "@jupyter-widgets/controls",
      "model_module_version": "1.5.0",
      "model_name": "DescriptionStyleModel",
      "state": {
       "description_width": ""
      }
     },
     "220f9c33576b4d75b3d4be3555777472": {
      "model_module": "@jupyter-widgets/controls",
      "model_module_version": "1.5.0",
      "model_name": "DescriptionStyleModel",
      "state": {
       "description_width": ""
      }
     },
     "2276dd69640041d7ba9a1fb0757208d1": {
      "model_module": "@jupyter-widgets/controls",
      "model_module_version": "1.5.0",
      "model_name": "HTMLModel",
      "state": {
       "layout": "IPY_MODEL_e5addac520b34cbd9bb43869962d613a",
       "style": "IPY_MODEL_295b69cc202f4694a3ee62d474624b41",
       "value": "Generating values: 100%"
      }
     },
     "22fe1d97b28249d9bb365782e2e8fa7f": {
      "model_module": "@jupyter-widgets/base",
      "model_module_version": "1.2.0",
      "model_name": "LayoutModel",
      "state": {}
     },
     "231aea83380940058a1efae84365e648": {
      "model_module": "@jupyter-widgets/base",
      "model_module_version": "1.2.0",
      "model_name": "LayoutModel",
      "state": {}
     },
     "2496f8556b624ac78600acd552a8f578": {
      "model_module": "@jupyter-widgets/base",
      "model_module_version": "1.2.0",
      "model_name": "LayoutModel",
      "state": {}
     },
     "27173c187d1347c399b43c69b4587006": {
      "model_module": "@jupyter-widgets/base",
      "model_module_version": "1.2.0",
      "model_name": "LayoutModel",
      "state": {}
     },
     "286e9934c92e416784ede5b45827d438": {
      "model_module": "@jupyter-widgets/controls",
      "model_module_version": "1.5.0",
      "model_name": "DescriptionStyleModel",
      "state": {
       "description_width": ""
      }
     },
     "293018b1afb541d0a97f0a1558c1f956": {
      "model_module": "@jupyter-widgets/controls",
      "model_module_version": "1.5.0",
      "model_name": "DescriptionStyleModel",
      "state": {
       "description_width": ""
      }
     },
     "295b69cc202f4694a3ee62d474624b41": {
      "model_module": "@jupyter-widgets/controls",
      "model_module_version": "1.5.0",
      "model_name": "DescriptionStyleModel",
      "state": {
       "description_width": ""
      }
     },
     "2a250f38f75b430798e6119809a71f9f": {
      "model_module": "@jupyter-widgets/controls",
      "model_module_version": "1.5.0",
      "model_name": "FloatProgressModel",
      "state": {
       "bar_style": "success",
       "layout": "IPY_MODEL_9502dcabdba0482db6e590464faac156",
       "max": 100000,
       "style": "IPY_MODEL_adb72ee0618e4f1f8fd4f84fbb9e8a1e",
       "value": 100000
      }
     },
     "2aee279340ac4e018fad0409d1db9fe3": {
      "model_module": "@jupyter-widgets/controls",
      "model_module_version": "1.5.0",
      "model_name": "HTMLModel",
      "state": {
       "layout": "IPY_MODEL_f1617bd1e47f40f58147a7dafa4fd2a0",
       "style": "IPY_MODEL_b87478c6ed214186b253bcc7894bc357",
       "value": " 100000/100000 [00:00&lt;00:00, 224421.53it/s]"
      }
     },
     "2b96eb8958ba4c78b5b35a27c66f4bcf": {
      "model_module": "@jupyter-widgets/controls",
      "model_module_version": "1.5.0",
      "model_name": "DescriptionStyleModel",
      "state": {
       "description_width": ""
      }
     },
     "2bc975cb077e45fab3ee688771144c45": {
      "model_module": "@jupyter-widgets/controls",
      "model_module_version": "1.5.0",
      "model_name": "HTMLModel",
      "state": {
       "layout": "IPY_MODEL_606e814163c249518d415f97168e1fee",
       "style": "IPY_MODEL_5dce4ead5c8646dfa03369f3c49be7d5",
       "value": " 1000/1000 [00:00&lt;00:00, 58771.74it/s]"
      }
     },
     "2bd9bc4f45b84c77b6571a9a67ce091d": {
      "model_module": "@jupyter-widgets/controls",
      "model_module_version": "1.5.0",
      "model_name": "ProgressStyleModel",
      "state": {
       "description_width": ""
      }
     },
     "2cebd30cfe1542b78d4451efa29e0796": {
      "model_module": "@jupyter-widgets/controls",
      "model_module_version": "1.5.0",
      "model_name": "HTMLModel",
      "state": {
       "layout": "IPY_MODEL_71fe23b6b84e4e42862d687e5b2c632a",
       "style": "IPY_MODEL_b4a7049460a4435b95d944e53325c773",
       "value": "Generating values: 100%"
      }
     },
     "2d0cd3f02cbf4238bd400691d7c9654b": {
      "model_module": "@jupyter-widgets/controls",
      "model_module_version": "1.5.0",
      "model_name": "DescriptionStyleModel",
      "state": {
       "description_width": ""
      }
     },
     "2df60fe6bd68460aa8026cc393be07ea": {
      "model_module": "@jupyter-widgets/controls",
      "model_module_version": "1.5.0",
      "model_name": "HBoxModel",
      "state": {
       "children": [
        "IPY_MODEL_31894fb2b9704752a0c4303fd97f1f1b",
        "IPY_MODEL_c8bbd3e2a6af4f2aac500b231d1cfe8b",
        "IPY_MODEL_2bc975cb077e45fab3ee688771144c45"
       ],
       "layout": "IPY_MODEL_f45bd0804c9a4ab181b447d8ee6ca17a"
      }
     },
     "300583e85a3d4ade8a1e4fa112aa713d": {
      "model_module": "@jupyter-widgets/controls",
      "model_module_version": "1.5.0",
      "model_name": "FloatProgressModel",
      "state": {
       "bar_style": "success",
       "layout": "IPY_MODEL_ca8fc70372c04adfb3f19bbc8b15d2f5",
       "max": 1000,
       "style": "IPY_MODEL_c5ca4d9a373247a9b37f58a7141c0544",
       "value": 1000
      }
     },
     "31894fb2b9704752a0c4303fd97f1f1b": {
      "model_module": "@jupyter-widgets/controls",
      "model_module_version": "1.5.0",
      "model_name": "HTMLModel",
      "state": {
       "layout": "IPY_MODEL_e81939889bd34e33ae610e3c37027ec1",
       "style": "IPY_MODEL_56eee55e7c0c4a3a903590b44b0398dc",
       "value": "Generating values: 100%"
      }
     },
     "32188aafa12848608f6c5716ecfb735f": {
      "model_module": "@jupyter-widgets/controls",
      "model_module_version": "1.5.0",
      "model_name": "ProgressStyleModel",
      "state": {
       "description_width": ""
      }
     },
     "33726ed4df554aa9ba2d9381f5def6ff": {
      "model_module": "@jupyter-widgets/controls",
      "model_module_version": "1.5.0",
      "model_name": "HTMLModel",
      "state": {
       "layout": "IPY_MODEL_ecb8cc9829924cd386479256694cc7af",
       "style": "IPY_MODEL_5784af081a8e47d49756a7c887b21e7b",
       "value": "Generating values: 100%"
      }
     },
     "34549e8deb5a4af99b6f4ba99dbb4696": {
      "model_module": "@jupyter-widgets/controls",
      "model_module_version": "1.5.0",
      "model_name": "HTMLModel",
      "state": {
       "layout": "IPY_MODEL_9feeedba8d3c461ab96ea4f316f457ab",
       "style": "IPY_MODEL_1b717ceb9eed4e6b82cfbfee40326fe1",
       "value": " 100000/100000 [00:00&lt;00:00, 229170.49it/s]"
      }
     },
     "3469309508af4635aaa33539fc827521": {
      "model_module": "@jupyter-widgets/controls",
      "model_module_version": "1.5.0",
      "model_name": "ProgressStyleModel",
      "state": {
       "description_width": ""
      }
     },
     "3882b42644ad4fdb94327c8f871173e4": {
      "model_module": "@jupyter-widgets/controls",
      "model_module_version": "1.5.0",
      "model_name": "HTMLModel",
      "state": {
       "layout": "IPY_MODEL_51fd8740bcde469e89899973f1966631",
       "style": "IPY_MODEL_6b69574ec924485eb743e13e0ec86dc5",
       "value": "Generating values: 100%"
      }
     },
     "391f276f79844a3194773821c7f85e61": {
      "model_module": "@jupyter-widgets/controls",
      "model_module_version": "1.5.0",
      "model_name": "ProgressStyleModel",
      "state": {
       "description_width": ""
      }
     },
     "3a1417d568ed4efbb17bef15d4c835f7": {
      "model_module": "@jupyter-widgets/base",
      "model_module_version": "1.2.0",
      "model_name": "LayoutModel",
      "state": {}
     },
     "3b1193393e2e49d09cf21a0dbeb7b2b1": {
      "model_module": "@jupyter-widgets/controls",
      "model_module_version": "1.5.0",
      "model_name": "DescriptionStyleModel",
      "state": {
       "description_width": ""
      }
     },
     "3c4973f7792349238e342b71610f74aa": {
      "model_module": "@jupyter-widgets/controls",
      "model_module_version": "1.5.0",
      "model_name": "DescriptionStyleModel",
      "state": {
       "description_width": ""
      }
     },
     "3caa194833db4303b66c56a6698c75fc": {
      "model_module": "@jupyter-widgets/controls",
      "model_module_version": "1.5.0",
      "model_name": "DescriptionStyleModel",
      "state": {
       "description_width": ""
      }
     },
     "3d516838c03e43a8b08d508453f518b4": {
      "model_module": "@jupyter-widgets/controls",
      "model_module_version": "1.5.0",
      "model_name": "ProgressStyleModel",
      "state": {
       "description_width": ""
      }
     },
     "3ea44f816e314e0996151b9bba9ccc7c": {
      "model_module": "@jupyter-widgets/controls",
      "model_module_version": "1.5.0",
      "model_name": "HBoxModel",
      "state": {
       "children": [
        "IPY_MODEL_d15f8d373d944e22bbedda7fe44a68df",
        "IPY_MODEL_f35040f9af354cbaa96e03a81045fbb6",
        "IPY_MODEL_f692f4ef479d48c08ffc71d840cf0562"
       ],
       "layout": "IPY_MODEL_b07aa3b97f2349b7b9b4cd90d7ca848f"
      }
     },
     "3f2c4800e0674dbe9aa3f7b47958239b": {
      "model_module": "@jupyter-widgets/controls",
      "model_module_version": "1.5.0",
      "model_name": "HBoxModel",
      "state": {
       "children": [
        "IPY_MODEL_a3bb9a7574eb4465824437122c88ae78",
        "IPY_MODEL_09aa77ff5e5b4ad9a536211311ff46f4",
        "IPY_MODEL_162318435a464af7ae2f980596d98bd7"
       ],
       "layout": "IPY_MODEL_7c001b3ecebf488599bdd488cb4aeed4"
      }
     },
     "403039307e4a4ab4bc7f3ea97cec39de": {
      "model_module": "@jupyter-widgets/controls",
      "model_module_version": "1.5.0",
      "model_name": "HBoxModel",
      "state": {
       "children": [
        "IPY_MODEL_0582f62fa8b54f18aa3c5b7adb24d557",
        "IPY_MODEL_859dfb22ac224e81854c2ba489483058",
        "IPY_MODEL_53534df36b134b5a987c23d674c37a00"
       ],
       "layout": "IPY_MODEL_111a66a8e5ec4f11939eb6ffd1a0a584"
      }
     },
     "406e047e1e1a40c7be3d0a343e13e40c": {
      "model_module": "@jupyter-widgets/base",
      "model_module_version": "1.2.0",
      "model_name": "LayoutModel",
      "state": {}
     },
     "407de540dd6548c6a980d9ee7a2f1214": {
      "model_module": "@jupyter-widgets/base",
      "model_module_version": "1.2.0",
      "model_name": "LayoutModel",
      "state": {}
     },
     "42a3adc87d69458a8d2806f8f6e557e0": {
      "model_module": "@jupyter-widgets/base",
      "model_module_version": "1.2.0",
      "model_name": "LayoutModel",
      "state": {}
     },
     "438c655c5ec74b94891f4021f493e0a6": {
      "model_module": "@jupyter-widgets/controls",
      "model_module_version": "1.5.0",
      "model_name": "HBoxModel",
      "state": {
       "children": [
        "IPY_MODEL_44699ef21589494088f618c0531a999a",
        "IPY_MODEL_dd1973f24dfd4326ae3bc26803ba8890",
        "IPY_MODEL_553a04ce192d4f4481f494247e15209f"
       ],
       "layout": "IPY_MODEL_e274346bfd274af5b0dde5d6e07966bb"
      }
     },
     "43b065e547a340dc908838eaf30c1cf0": {
      "model_module": "@jupyter-widgets/controls",
      "model_module_version": "1.5.0",
      "model_name": "DescriptionStyleModel",
      "state": {
       "description_width": ""
      }
     },
     "44699ef21589494088f618c0531a999a": {
      "model_module": "@jupyter-widgets/controls",
      "model_module_version": "1.5.0",
      "model_name": "HTMLModel",
      "state": {
       "layout": "IPY_MODEL_555343cb5ffd4c51b3679a7098323319",
       "style": "IPY_MODEL_3c4973f7792349238e342b71610f74aa",
       "value": "Generating values: 100%"
      }
     },
     "44cf9747b9c74eb48fa5d99380397ded": {
      "model_module": "@jupyter-widgets/controls",
      "model_module_version": "1.5.0",
      "model_name": "DescriptionStyleModel",
      "state": {
       "description_width": ""
      }
     },
     "46673242d19047a3920a13f7a30b3ab3": {
      "model_module": "@jupyter-widgets/base",
      "model_module_version": "1.2.0",
      "model_name": "LayoutModel",
      "state": {}
     },
     "46983d7181bd494cb7723a152c4415e7": {
      "model_module": "@jupyter-widgets/base",
      "model_module_version": "1.2.0",
      "model_name": "LayoutModel",
      "state": {}
     },
     "469eb3103a494ff793ca6bbe3e61499d": {
      "model_module": "@jupyter-widgets/controls",
      "model_module_version": "1.5.0",
      "model_name": "HBoxModel",
      "state": {
       "children": [
        "IPY_MODEL_52370f1075e9413b9ffe189c49aed023",
        "IPY_MODEL_c6ba47f6e2b74ca8a5de14cef9961429",
        "IPY_MODEL_a3fc8fe95113466ba63d973de8dda76e"
       ],
       "layout": "IPY_MODEL_aa9987a14f81436c8e12971112ccc7e8"
      }
     },
     "478acab5e50e4a229f3dccfae003a67e": {
      "model_module": "@jupyter-widgets/base",
      "model_module_version": "1.2.0",
      "model_name": "LayoutModel",
      "state": {}
     },
     "48fb81b5656c433fb1768dcdedcef87f": {
      "model_module": "@jupyter-widgets/base",
      "model_module_version": "1.2.0",
      "model_name": "LayoutModel",
      "state": {}
     },
     "49c47bb4c0ff47e0b2cae025827cbef0": {
      "model_module": "@jupyter-widgets/controls",
      "model_module_version": "1.5.0",
      "model_name": "HTMLModel",
      "state": {
       "layout": "IPY_MODEL_79bf7c7e09aa44feb41c9af1f506c7aa",
       "style": "IPY_MODEL_43b065e547a340dc908838eaf30c1cf0",
       "value": " 10000/10000 [00:00&lt;00:00, 175279.74it/s]"
      }
     },
     "4a78279b87f6475bb7781bb45edb415a": {
      "model_module": "@jupyter-widgets/base",
      "model_module_version": "1.2.0",
      "model_name": "LayoutModel",
      "state": {}
     },
     "4cd01f8734284d3eb31d08e05244c8b3": {
      "model_module": "@jupyter-widgets/controls",
      "model_module_version": "1.5.0",
      "model_name": "FloatProgressModel",
      "state": {
       "bar_style": "success",
       "layout": "IPY_MODEL_da902ac2380845599b3967822ec329d0",
       "max": 1000,
       "style": "IPY_MODEL_bd1496e3f3b542ebbd2468e930bdb61e",
       "value": 1000
      }
     },
     "4ce3759e94014f9baa38a911143beca6": {
      "model_module": "@jupyter-widgets/controls",
      "model_module_version": "1.5.0",
      "model_name": "FloatProgressModel",
      "state": {
       "bar_style": "success",
       "layout": "IPY_MODEL_63b744be062a4f1fb062d5ba4c517c05",
       "max": 100000,
       "style": "IPY_MODEL_5b3d731849304879acaf2474d38402ac",
       "value": 100000
      }
     },
     "4eec69181e394d239cfa10008ee2ea41": {
      "model_module": "@jupyter-widgets/controls",
      "model_module_version": "1.5.0",
      "model_name": "HTMLModel",
      "state": {
       "layout": "IPY_MODEL_f22ca857fd7f4121b266888831205aed",
       "style": "IPY_MODEL_f1eeeb79e5354d51bcb9e432dd2e8855",
       "value": " 1000/1000 [00:00&lt;00:00, 58768.45it/s]"
      }
     },
     "4fb75a2b946447f59d8c5a18ce01dd87": {
      "model_module": "@jupyter-widgets/controls",
      "model_module_version": "1.5.0",
      "model_name": "FloatProgressModel",
      "state": {
       "bar_style": "success",
       "layout": "IPY_MODEL_54f983906e394767a82b429488c5f46e",
       "max": 100000,
       "style": "IPY_MODEL_bf3ab4f2335843459076c52154822345",
       "value": 100000
      }
     },
     "50cb6f22b57244e8879e1d479dfbaac1": {
      "model_module": "@jupyter-widgets/base",
      "model_module_version": "1.2.0",
      "model_name": "LayoutModel",
      "state": {}
     },
     "511ad99f31a847abb68c440b8cc20c05": {
      "model_module": "@jupyter-widgets/base",
      "model_module_version": "1.2.0",
      "model_name": "LayoutModel",
      "state": {}
     },
     "51879e8f929e436ba8511d98e604c035": {
      "model_module": "@jupyter-widgets/controls",
      "model_module_version": "1.5.0",
      "model_name": "HBoxModel",
      "state": {
       "children": [
        "IPY_MODEL_65ebccc536f5498d9467b5fb1f6945a2",
        "IPY_MODEL_4cd01f8734284d3eb31d08e05244c8b3",
        "IPY_MODEL_4eec69181e394d239cfa10008ee2ea41"
       ],
       "layout": "IPY_MODEL_748a9cd0f06a4d399a36a8103a09a18a"
      }
     },
     "51c8865e3a4d4faf93dbd65c463cdc8d": {
      "model_module": "@jupyter-widgets/controls",
      "model_module_version": "1.5.0",
      "model_name": "DescriptionStyleModel",
      "state": {
       "description_width": ""
      }
     },
     "51fd8740bcde469e89899973f1966631": {
      "model_module": "@jupyter-widgets/base",
      "model_module_version": "1.2.0",
      "model_name": "LayoutModel",
      "state": {}
     },
     "52370f1075e9413b9ffe189c49aed023": {
      "model_module": "@jupyter-widgets/controls",
      "model_module_version": "1.5.0",
      "model_name": "HTMLModel",
      "state": {
       "layout": "IPY_MODEL_e945e0cef65d4ae3a8ac4395223b8aff",
       "style": "IPY_MODEL_293018b1afb541d0a97f0a1558c1f956",
       "value": "Generating values: 100%"
      }
     },
     "52af3a5f5c364e84bf79f8eb93d16bbc": {
      "model_module": "@jupyter-widgets/controls",
      "model_module_version": "1.5.0",
      "model_name": "ProgressStyleModel",
      "state": {
       "description_width": ""
      }
     },
     "53534df36b134b5a987c23d674c37a00": {
      "model_module": "@jupyter-widgets/controls",
      "model_module_version": "1.5.0",
      "model_name": "HTMLModel",
      "state": {
       "layout": "IPY_MODEL_5ea7602bd82449b197a96f6d037e4bf2",
       "style": "IPY_MODEL_2b96eb8958ba4c78b5b35a27c66f4bcf",
       "value": " 1700/1700 [00:00&lt;00:00, 84926.18it/s]"
      }
     },
     "5408bc28ca1d4144ae13eba06d2bfa6b": {
      "model_module": "@jupyter-widgets/base",
      "model_module_version": "1.2.0",
      "model_name": "LayoutModel",
      "state": {}
     },
     "54f983906e394767a82b429488c5f46e": {
      "model_module": "@jupyter-widgets/base",
      "model_module_version": "1.2.0",
      "model_name": "LayoutModel",
      "state": {}
     },
     "553a04ce192d4f4481f494247e15209f": {
      "model_module": "@jupyter-widgets/controls",
      "model_module_version": "1.5.0",
      "model_name": "HTMLModel",
      "state": {
       "layout": "IPY_MODEL_d586c6e0213c4d2b8a4061cc399fafdb",
       "style": "IPY_MODEL_9656cc81069e404a95c3c2b04cd9c802",
       "value": " 1000/1000 [00:00&lt;00:00, 58770.92it/s]"
      }
     },
     "555343cb5ffd4c51b3679a7098323319": {
      "model_module": "@jupyter-widgets/base",
      "model_module_version": "1.2.0",
      "model_name": "LayoutModel",
      "state": {}
     },
     "55629b6d6f6348658d1291bfb19a7113": {
      "model_module": "@jupyter-widgets/controls",
      "model_module_version": "1.5.0",
      "model_name": "DescriptionStyleModel",
      "state": {
       "description_width": ""
      }
     },
     "56eee55e7c0c4a3a903590b44b0398dc": {
      "model_module": "@jupyter-widgets/controls",
      "model_module_version": "1.5.0",
      "model_name": "DescriptionStyleModel",
      "state": {
       "description_width": ""
      }
     },
     "5774f11b268745ca876e2643b6b5c5e8": {
      "model_module": "@jupyter-widgets/controls",
      "model_module_version": "1.5.0",
      "model_name": "FloatProgressModel",
      "state": {
       "bar_style": "success",
       "layout": "IPY_MODEL_c816963ac5c54563b83d497904deb712",
       "max": 100000,
       "style": "IPY_MODEL_e2639f5d96954fe08743296720e96697",
       "value": 100000
      }
     },
     "5784af081a8e47d49756a7c887b21e7b": {
      "model_module": "@jupyter-widgets/controls",
      "model_module_version": "1.5.0",
      "model_name": "DescriptionStyleModel",
      "state": {
       "description_width": ""
      }
     },
     "57c7e5d5d9814a37a2981979a63fb1ff": {
      "model_module": "@jupyter-widgets/controls",
      "model_module_version": "1.5.0",
      "model_name": "HBoxModel",
      "state": {
       "children": [
        "IPY_MODEL_dcb5f9acd17142cab231cdb4f94b2e88",
        "IPY_MODEL_03fe69c5fed84e0eade447a11491dbeb",
        "IPY_MODEL_fdd0e21f45784faea272c73cce35751a"
       ],
       "layout": "IPY_MODEL_94f4183646154084abfdcc487af79edb"
      }
     },
     "5807371ac1e04229bc4029f72f2a4b32": {
      "model_module": "@jupyter-widgets/controls",
      "model_module_version": "1.5.0",
      "model_name": "ProgressStyleModel",
      "state": {
       "description_width": ""
      }
     },
     "595296b433524b9e9a76abf3d9e083aa": {
      "model_module": "@jupyter-widgets/controls",
      "model_module_version": "1.5.0",
      "model_name": "HTMLModel",
      "state": {
       "layout": "IPY_MODEL_983dd8753654456990459ec127ed7805",
       "style": "IPY_MODEL_211b66692d3d4050b6198dc68ceeb23c",
       "value": "Generating values: 100%"
      }
     },
     "5b3d731849304879acaf2474d38402ac": {
      "model_module": "@jupyter-widgets/controls",
      "model_module_version": "1.5.0",
      "model_name": "ProgressStyleModel",
      "state": {
       "description_width": ""
      }
     },
     "5b57d20eaf1045e1a289cfc6696bdc56": {
      "model_module": "@jupyter-widgets/base",
      "model_module_version": "1.2.0",
      "model_name": "LayoutModel",
      "state": {}
     },
     "5bd33c43a20d446d83395c73a638e27b": {
      "model_module": "@jupyter-widgets/controls",
      "model_module_version": "1.5.0",
      "model_name": "HTMLModel",
      "state": {
       "layout": "IPY_MODEL_17ce0e637e04481993f87b7068b70eb0",
       "style": "IPY_MODEL_caaf686f09c5447d89498e7cc1e3adae",
       "value": " 1000/1000 [00:00&lt;00:00, 58770.92it/s]"
      }
     },
     "5bee71e8774640fc89a404084bdbf19e": {
      "model_module": "@jupyter-widgets/controls",
      "model_module_version": "1.5.0",
      "model_name": "HBoxModel",
      "state": {
       "children": [
        "IPY_MODEL_bda18ae29ce541fd86ff9c5a8ccdad67",
        "IPY_MODEL_e0eee8bf04ad4c27a8ffc8d051d39066",
        "IPY_MODEL_6c10810f8a394345a56a77d65e3854d5"
       ],
       "layout": "IPY_MODEL_46673242d19047a3920a13f7a30b3ab3"
      }
     },
     "5c3017a9fbbd4731823b6579b06b0734": {
      "model_module": "@jupyter-widgets/base",
      "model_module_version": "1.2.0",
      "model_name": "LayoutModel",
      "state": {}
     },
     "5ca3f298f7534c3e9995d7466a55a05f": {
      "model_module": "@jupyter-widgets/controls",
      "model_module_version": "1.5.0",
      "model_name": "ProgressStyleModel",
      "state": {
       "description_width": ""
      }
     },
     "5d70331e21274f6f883ca30b188cfbb3": {
      "model_module": "@jupyter-widgets/base",
      "model_module_version": "1.2.0",
      "model_name": "LayoutModel",
      "state": {}
     },
     "5dce4ead5c8646dfa03369f3c49be7d5": {
      "model_module": "@jupyter-widgets/controls",
      "model_module_version": "1.5.0",
      "model_name": "DescriptionStyleModel",
      "state": {
       "description_width": ""
      }
     },
     "5ea6b7c2d62445ba82584245dd4ec0b5": {
      "model_module": "@jupyter-widgets/controls",
      "model_module_version": "1.5.0",
      "model_name": "HBoxModel",
      "state": {
       "children": [
        "IPY_MODEL_3882b42644ad4fdb94327c8f871173e4",
        "IPY_MODEL_0e587620787f4fb7b63cc1c7ef8048a6",
        "IPY_MODEL_d8d2c199afa14d34b721b83eeb330093"
       ],
       "layout": "IPY_MODEL_04a59972962d4541ba543b028b9ce7bd"
      }
     },
     "5ea7602bd82449b197a96f6d037e4bf2": {
      "model_module": "@jupyter-widgets/base",
      "model_module_version": "1.2.0",
      "model_name": "LayoutModel",
      "state": {}
     },
     "606e814163c249518d415f97168e1fee": {
      "model_module": "@jupyter-widgets/base",
      "model_module_version": "1.2.0",
      "model_name": "LayoutModel",
      "state": {}
     },
     "612ed7252a464edd86e5ea7e97b8fb5c": {
      "model_module": "@jupyter-widgets/controls",
      "model_module_version": "1.5.0",
      "model_name": "HTMLModel",
      "state": {
       "layout": "IPY_MODEL_e255e3cbf85b4a50895dad6590074428",
       "style": "IPY_MODEL_146906d1f86442b097fe92d094cd19c8",
       "value": " 3000/3000 [00:00&lt;00:00, 115281.97it/s]"
      }
     },
     "62efb4e3c2d74f5ab787dbfddd483519": {
      "model_module": "@jupyter-widgets/controls",
      "model_module_version": "1.5.0",
      "model_name": "HTMLModel",
      "state": {
       "layout": "IPY_MODEL_0937b284686344b7ac753bc1e7385ab0",
       "style": "IPY_MODEL_78a46b1faff64922b5842d1e3749a1af",
       "value": " 3000/3000 [00:00&lt;00:00, 115279.86it/s]"
      }
     },
     "638ff0e16a6c40c4bc732fb4bcf2998d": {
      "model_module": "@jupyter-widgets/base",
      "model_module_version": "1.2.0",
      "model_name": "LayoutModel",
      "state": {}
     },
     "63b744be062a4f1fb062d5ba4c517c05": {
      "model_module": "@jupyter-widgets/base",
      "model_module_version": "1.2.0",
      "model_name": "LayoutModel",
      "state": {}
     },
     "658a76cf4c4d465d8cd8f4b699fb4a11": {
      "model_module": "@jupyter-widgets/base",
      "model_module_version": "1.2.0",
      "model_name": "LayoutModel",
      "state": {}
     },
     "65ebccc536f5498d9467b5fb1f6945a2": {
      "model_module": "@jupyter-widgets/controls",
      "model_module_version": "1.5.0",
      "model_name": "HTMLModel",
      "state": {
       "layout": "IPY_MODEL_c728524378314a988ed20de33dca53be",
       "style": "IPY_MODEL_d0a5244284ff4a9f86250dd9c82a0a81",
       "value": "Generating values: 100%"
      }
     },
     "6618d58b5cf14b2baaad93b235fb5f8c": {
      "model_module": "@jupyter-widgets/controls",
      "model_module_version": "1.5.0",
      "model_name": "DescriptionStyleModel",
      "state": {
       "description_width": ""
      }
     },
     "6714fbb8b9124927a86c157428dde77a": {
      "model_module": "@jupyter-widgets/controls",
      "model_module_version": "1.5.0",
      "model_name": "FloatProgressModel",
      "state": {
       "bar_style": "success",
       "layout": "IPY_MODEL_834dc65488ff424ea36358a27b076116",
       "max": 100000,
       "style": "IPY_MODEL_1986b44a2a264f7196764b9cb27c2f2b",
       "value": 100000
      }
     },
     "677861f2a5ca47b3b6fedeb4c175b52e": {
      "model_module": "@jupyter-widgets/base",
      "model_module_version": "1.2.0",
      "model_name": "LayoutModel",
      "state": {}
     },
     "67ae3168307d4433b6fb51e04e1e5b94": {
      "model_module": "@jupyter-widgets/controls",
      "model_module_version": "1.5.0",
      "model_name": "ProgressStyleModel",
      "state": {
       "description_width": ""
      }
     },
     "683e642c3d0b4db2b48b35efe7b089e9": {
      "model_module": "@jupyter-widgets/controls",
      "model_module_version": "1.5.0",
      "model_name": "DescriptionStyleModel",
      "state": {
       "description_width": ""
      }
     },
     "691f5da07d8d4eb395cd597d681126e7": {
      "model_module": "@jupyter-widgets/controls",
      "model_module_version": "1.5.0",
      "model_name": "HBoxModel",
      "state": {
       "children": [
        "IPY_MODEL_79a41170d7234dd1a3a980277799b8af",
        "IPY_MODEL_e3cc2e0167e7409b81eb4973d15735ff",
        "IPY_MODEL_fd967be9eca4496a85dec3b01f448e41"
       ],
       "layout": "IPY_MODEL_2496f8556b624ac78600acd552a8f578"
      }
     },
     "69a96113e46f449c9bc7014748bcd660": {
      "model_module": "@jupyter-widgets/controls",
      "model_module_version": "1.5.0",
      "model_name": "DescriptionStyleModel",
      "state": {
       "description_width": ""
      }
     },
     "69ef755cfb364232bdbd1e5c0e2901a1": {
      "model_module": "@jupyter-widgets/controls",
      "model_module_version": "1.5.0",
      "model_name": "HTMLModel",
      "state": {
       "layout": "IPY_MODEL_778681d846954698933822f511e18881",
       "style": "IPY_MODEL_2d0cd3f02cbf4238bd400691d7c9654b",
       "value": " 1400/1400 [00:00&lt;00:00, 53797.76it/s]"
      }
     },
     "6aaeaa63495b4235b995095090a4b6da": {
      "model_module": "@jupyter-widgets/controls",
      "model_module_version": "1.5.0",
      "model_name": "FloatProgressModel",
      "state": {
       "bar_style": "success",
       "layout": "IPY_MODEL_18a66c5a3e62492c9cac86b48c638270",
       "max": 100000,
       "style": "IPY_MODEL_0317848ae09e4c7db8869354fb3f21e6",
       "value": 100000
      }
     },
     "6b3bd2fb1a3a4d9283f693c5ba2a6a7c": {
      "model_module": "@jupyter-widgets/controls",
      "model_module_version": "1.5.0",
      "model_name": "DescriptionStyleModel",
      "state": {
       "description_width": ""
      }
     },
     "6b3cba4dbb464d77b8633fd0e9261cb2": {
      "model_module": "@jupyter-widgets/controls",
      "model_module_version": "1.5.0",
      "model_name": "HTMLModel",
      "state": {
       "layout": "IPY_MODEL_1f2bcc6506674717a02ec6b0ca583de9",
       "style": "IPY_MODEL_106504994535495f8ab1e38817294524",
       "value": "Generating values: 100%"
      }
     },
     "6b5689cda0174b74ba1fd00d2b648888": {
      "model_module": "@jupyter-widgets/controls",
      "model_module_version": "1.5.0",
      "model_name": "HTMLModel",
      "state": {
       "layout": "IPY_MODEL_c284dec629794cabb5a057c25ce80b18",
       "style": "IPY_MODEL_c6aca3e2a1f84122ab23191a65cffb94",
       "value": "Generating values: 100%"
      }
     },
     "6b69574ec924485eb743e13e0ec86dc5": {
      "model_module": "@jupyter-widgets/controls",
      "model_module_version": "1.5.0",
      "model_name": "DescriptionStyleModel",
      "state": {
       "description_width": ""
      }
     },
     "6c10810f8a394345a56a77d65e3854d5": {
      "model_module": "@jupyter-widgets/controls",
      "model_module_version": "1.5.0",
      "model_name": "HTMLModel",
      "state": {
       "layout": "IPY_MODEL_132737334d73453b808fe6e076e9889a",
       "style": "IPY_MODEL_683e642c3d0b4db2b48b35efe7b089e9",
       "value": " 0/1000 [00:00&lt;?, ?it/s]"
      }
     },
     "6da3f09e866f464994b1c9a0b0941e25": {
      "model_module": "@jupyter-widgets/base",
      "model_module_version": "1.2.0",
      "model_name": "LayoutModel",
      "state": {}
     },
     "6fc66e1203514abb81d77b150f70cfbd": {
      "model_module": "@jupyter-widgets/base",
      "model_module_version": "1.2.0",
      "model_name": "LayoutModel",
      "state": {}
     },
     "713da3ba4e034e44b9157aaad484d19a": {
      "model_module": "@jupyter-widgets/controls",
      "model_module_version": "1.5.0",
      "model_name": "ProgressStyleModel",
      "state": {
       "description_width": ""
      }
     },
     "718c1b33148240b4960e760f4c3961d1": {
      "model_module": "@jupyter-widgets/controls",
      "model_module_version": "1.5.0",
      "model_name": "DescriptionStyleModel",
      "state": {
       "description_width": ""
      }
     },
     "71fe23b6b84e4e42862d687e5b2c632a": {
      "model_module": "@jupyter-widgets/base",
      "model_module_version": "1.2.0",
      "model_name": "LayoutModel",
      "state": {}
     },
     "73d9095002f84eee8ff67b4b3645f3f4": {
      "model_module": "@jupyter-widgets/controls",
      "model_module_version": "1.5.0",
      "model_name": "HTMLModel",
      "state": {
       "layout": "IPY_MODEL_6da3f09e866f464994b1c9a0b0941e25",
       "style": "IPY_MODEL_69a96113e46f449c9bc7014748bcd660",
       "value": " 1000/1000 [00:00&lt;00:00, 52583.26it/s]"
      }
     },
     "74405be5921e42b1bb7d496c3cfdcf92": {
      "model_module": "@jupyter-widgets/controls",
      "model_module_version": "1.5.0",
      "model_name": "DescriptionStyleModel",
      "state": {
       "description_width": ""
      }
     },
     "748a9cd0f06a4d399a36a8103a09a18a": {
      "model_module": "@jupyter-widgets/base",
      "model_module_version": "1.2.0",
      "model_name": "LayoutModel",
      "state": {}
     },
     "76a66a77181844e7b859c2a9df66cef9": {
      "model_module": "@jupyter-widgets/controls",
      "model_module_version": "1.5.0",
      "model_name": "HBoxModel",
      "state": {
       "children": [
        "IPY_MODEL_6b5689cda0174b74ba1fd00d2b648888",
        "IPY_MODEL_824655396e884078a114d4510452dd0f",
        "IPY_MODEL_49c47bb4c0ff47e0b2cae025827cbef0"
       ],
       "layout": "IPY_MODEL_126751a4be4548d58c43dbe2b039d9b6"
      }
     },
     "778681d846954698933822f511e18881": {
      "model_module": "@jupyter-widgets/base",
      "model_module_version": "1.2.0",
      "model_name": "LayoutModel",
      "state": {}
     },
     "785ab253dec34a46a6abd54bc9f265f9": {
      "model_module": "@jupyter-widgets/base",
      "model_module_version": "1.2.0",
      "model_name": "LayoutModel",
      "state": {}
     },
     "78a46b1faff64922b5842d1e3749a1af": {
      "model_module": "@jupyter-widgets/controls",
      "model_module_version": "1.5.0",
      "model_name": "DescriptionStyleModel",
      "state": {
       "description_width": ""
      }
     },
     "7902ff9ce15a477580a09894890d1d9d": {
      "model_module": "@jupyter-widgets/controls",
      "model_module_version": "1.5.0",
      "model_name": "DescriptionStyleModel",
      "state": {
       "description_width": ""
      }
     },
     "79a41170d7234dd1a3a980277799b8af": {
      "model_module": "@jupyter-widgets/controls",
      "model_module_version": "1.5.0",
      "model_name": "HTMLModel",
      "state": {
       "layout": "IPY_MODEL_48fb81b5656c433fb1768dcdedcef87f",
       "style": "IPY_MODEL_44cf9747b9c74eb48fa5d99380397ded",
       "value": "Generating values: 100%"
      }
     },
     "79bf7c7e09aa44feb41c9af1f506c7aa": {
      "model_module": "@jupyter-widgets/base",
      "model_module_version": "1.2.0",
      "model_name": "LayoutModel",
      "state": {}
     },
     "79f64af247f04813ac49867762dcbfd5": {
      "model_module": "@jupyter-widgets/controls",
      "model_module_version": "1.5.0",
      "model_name": "FloatProgressModel",
      "state": {
       "bar_style": "success",
       "layout": "IPY_MODEL_5c3017a9fbbd4731823b6579b06b0734",
       "max": 1000,
       "style": "IPY_MODEL_98ca046cc2d94ae3865ca5f804fafabf",
       "value": 1000
      }
     },
     "7bc58048057b4c458d84bb275a73ff4d": {
      "model_module": "@jupyter-widgets/base",
      "model_module_version": "1.2.0",
      "model_name": "LayoutModel",
      "state": {}
     },
     "7c001b3ecebf488599bdd488cb4aeed4": {
      "model_module": "@jupyter-widgets/base",
      "model_module_version": "1.2.0",
      "model_name": "LayoutModel",
      "state": {}
     },
     "7ffa030e990843a08ced587d03c1e33c": {
      "model_module": "@jupyter-widgets/base",
      "model_module_version": "1.2.0",
      "model_name": "LayoutModel",
      "state": {}
     },
     "7ffaf210f68b41f38c9de7c41b3e3706": {
      "model_module": "@jupyter-widgets/base",
      "model_module_version": "1.2.0",
      "model_name": "LayoutModel",
      "state": {}
     },
     "81931a0e1a714088a62ae04f987a706c": {
      "model_module": "@jupyter-widgets/controls",
      "model_module_version": "1.5.0",
      "model_name": "DescriptionStyleModel",
      "state": {
       "description_width": ""
      }
     },
     "824655396e884078a114d4510452dd0f": {
      "model_module": "@jupyter-widgets/controls",
      "model_module_version": "1.5.0",
      "model_name": "FloatProgressModel",
      "state": {
       "bar_style": "success",
       "layout": "IPY_MODEL_91e8126d5a664921909d39b43c4b828d",
       "max": 10000,
       "style": "IPY_MODEL_52af3a5f5c364e84bf79f8eb93d16bbc",
       "value": 10000
      }
     },
     "8274f2ca29944e318bbcf40d774a1bfb": {
      "model_module": "@jupyter-widgets/controls",
      "model_module_version": "1.5.0",
      "model_name": "DescriptionStyleModel",
      "state": {
       "description_width": ""
      }
     },
     "8321a64dc26c441b9b6a2eef5014be35": {
      "model_module": "@jupyter-widgets/base",
      "model_module_version": "1.2.0",
      "model_name": "LayoutModel",
      "state": {}
     },
     "834dc65488ff424ea36358a27b076116": {
      "model_module": "@jupyter-widgets/base",
      "model_module_version": "1.2.0",
      "model_name": "LayoutModel",
      "state": {}
     },
     "83c4aa21d88c45fdbc549f97b64625fb": {
      "model_module": "@jupyter-widgets/base",
      "model_module_version": "1.2.0",
      "model_name": "LayoutModel",
      "state": {}
     },
     "83f065c389e944f2adda34d6ac099573": {
      "model_module": "@jupyter-widgets/controls",
      "model_module_version": "1.5.0",
      "model_name": "DescriptionStyleModel",
      "state": {
       "description_width": ""
      }
     },
     "843b3ea8b6c34f56a2cf5640fd62e47d": {
      "model_module": "@jupyter-widgets/controls",
      "model_module_version": "1.5.0",
      "model_name": "DescriptionStyleModel",
      "state": {
       "description_width": ""
      }
     },
     "85561e332ffd4f389eb03e3222c616ac": {
      "model_module": "@jupyter-widgets/controls",
      "model_module_version": "1.5.0",
      "model_name": "HBoxModel",
      "state": {
       "children": [
        "IPY_MODEL_fe35a7e70e2f4c9fb79f356621753de5",
        "IPY_MODEL_9eaacd9cefd74f8ab68d036f407c8fa3",
        "IPY_MODEL_d0f73e95650c4ad4a91ad3bbe1cafadc"
       ],
       "layout": "IPY_MODEL_0322c8acd3324b72ab9623e25c04ca87"
      }
     },
     "859dfb22ac224e81854c2ba489483058": {
      "model_module": "@jupyter-widgets/controls",
      "model_module_version": "1.5.0",
      "model_name": "FloatProgressModel",
      "state": {
       "bar_style": "success",
       "layout": "IPY_MODEL_0da6ae2c35da43d68ddf3d5c2ef2ac4b",
       "max": 1700,
       "style": "IPY_MODEL_5ca3f298f7534c3e9995d7466a55a05f",
       "value": 1700
      }
     },
     "8612440aab9f4b249b8fb27bb26f6d49": {
      "model_module": "@jupyter-widgets/controls",
      "model_module_version": "1.5.0",
      "model_name": "DescriptionStyleModel",
      "state": {
       "description_width": ""
      }
     },
     "89aef5da0eb744bd9b777a7d672d544b": {
      "model_module": "@jupyter-widgets/controls",
      "model_module_version": "1.5.0",
      "model_name": "HBoxModel",
      "state": {
       "children": [
        "IPY_MODEL_c0d4c06ba7b94161a88b3aad2c1a2b3e",
        "IPY_MODEL_a99320ede6cd4113b5b36b744f418d3c",
        "IPY_MODEL_aac6ddd9ede74b498a760bf6f91f12b9"
       ],
       "layout": "IPY_MODEL_5408bc28ca1d4144ae13eba06d2bfa6b"
      }
     },
     "89b03050846d4a3396ec1354946a0264": {
      "model_module": "@jupyter-widgets/controls",
      "model_module_version": "1.5.0",
      "model_name": "HBoxModel",
      "state": {
       "children": [
        "IPY_MODEL_b4983af739d24140bb16d4bbc14ef0a1",
        "IPY_MODEL_4fb75a2b946447f59d8c5a18ce01dd87",
        "IPY_MODEL_2aee279340ac4e018fad0409d1db9fe3"
       ],
       "layout": "IPY_MODEL_0411105a1e8446a09079622543be07a2"
      }
     },
     "89c103d356da4a23a5e3a0c134e2e959": {
      "model_module": "@jupyter-widgets/controls",
      "model_module_version": "1.5.0",
      "model_name": "ProgressStyleModel",
      "state": {
       "description_width": ""
      }
     },
     "8a30d1433c2d422da61be6c4458bf8a0": {
      "model_module": "@jupyter-widgets/controls",
      "model_module_version": "1.5.0",
      "model_name": "HTMLModel",
      "state": {
       "layout": "IPY_MODEL_231aea83380940058a1efae84365e648",
       "style": "IPY_MODEL_ecbcd48d591149c99275ca3c0a1ae9b4",
       "value": " 100000/100000 [00:00&lt;00:00, 222735.67it/s]"
      }
     },
     "8b7c8de7cf41432b928ba28d9b7cdd8e": {
      "model_module": "@jupyter-widgets/controls",
      "model_module_version": "1.5.0",
      "model_name": "DescriptionStyleModel",
      "state": {
       "description_width": ""
      }
     },
     "8c339e77332b43358046bb45592974a9": {
      "model_module": "@jupyter-widgets/controls",
      "model_module_version": "1.5.0",
      "model_name": "DescriptionStyleModel",
      "state": {
       "description_width": ""
      }
     },
     "8cfabcb508bb41e3a9b02f5df184897d": {
      "model_module": "@jupyter-widgets/base",
      "model_module_version": "1.2.0",
      "model_name": "LayoutModel",
      "state": {}
     },
     "8d062119021a495ba9704bc1ee4a9f56": {
      "model_module": "@jupyter-widgets/controls",
      "model_module_version": "1.5.0",
      "model_name": "HBoxModel",
      "state": {
       "children": [
        "IPY_MODEL_ceecd5df3d86412fa8ba378845b1fe23",
        "IPY_MODEL_134eeff889e2417fa4621866f9c6c147",
        "IPY_MODEL_01010f341a0b46f19190c8cbe510aa43"
       ],
       "layout": "IPY_MODEL_9c842d48a1b24940a8c02b6a5650ae4d"
      }
     },
     "8e949f3a55b4465e95bc266a374bdf81": {
      "model_module": "@jupyter-widgets/controls",
      "model_module_version": "1.5.0",
      "model_name": "DescriptionStyleModel",
      "state": {
       "description_width": ""
      }
     },
     "908e4c1dae62479bbe351a9de9ec2f5d": {
      "model_module": "@jupyter-widgets/controls",
      "model_module_version": "1.5.0",
      "model_name": "HTMLModel",
      "state": {
       "layout": "IPY_MODEL_10714a001ede423794b7c05a71998a2d",
       "style": "IPY_MODEL_1dd0e008d561463693d89c685122e1eb",
       "value": "Generating values: 100%"
      }
     },
     "910b80916419418996b9f734f8cbd673": {
      "model_module": "@jupyter-widgets/base",
      "model_module_version": "1.2.0",
      "model_name": "LayoutModel",
      "state": {}
     },
     "91e8126d5a664921909d39b43c4b828d": {
      "model_module": "@jupyter-widgets/base",
      "model_module_version": "1.2.0",
      "model_name": "LayoutModel",
      "state": {}
     },
     "94447c304c53450f8b4cb21451c64f21": {
      "model_module": "@jupyter-widgets/controls",
      "model_module_version": "1.5.0",
      "model_name": "HBoxModel",
      "state": {
       "children": [
        "IPY_MODEL_14df38f8e6ad459b9410f4ffdabf503d",
        "IPY_MODEL_05a7d9b492484988890847de462332cf",
        "IPY_MODEL_69ef755cfb364232bdbd1e5c0e2901a1"
       ],
       "layout": "IPY_MODEL_a5c1698014a34cee9afc3f117fcadcb9"
      }
     },
     "94f4183646154084abfdcc487af79edb": {
      "model_module": "@jupyter-widgets/base",
      "model_module_version": "1.2.0",
      "model_name": "LayoutModel",
      "state": {}
     },
     "9502dcabdba0482db6e590464faac156": {
      "model_module": "@jupyter-widgets/base",
      "model_module_version": "1.2.0",
      "model_name": "LayoutModel",
      "state": {}
     },
     "956ade7cbcdc4f2da6309ce2030a27ff": {
      "model_module": "@jupyter-widgets/base",
      "model_module_version": "1.2.0",
      "model_name": "LayoutModel",
      "state": {}
     },
     "9656cc81069e404a95c3c2b04cd9c802": {
      "model_module": "@jupyter-widgets/controls",
      "model_module_version": "1.5.0",
      "model_name": "DescriptionStyleModel",
      "state": {
       "description_width": ""
      }
     },
     "97d10302451640728727f0586d5ad70d": {
      "model_module": "@jupyter-widgets/controls",
      "model_module_version": "1.5.0",
      "model_name": "HTMLModel",
      "state": {
       "layout": "IPY_MODEL_1117310d3336491db559e36c7d6ec9d1",
       "style": "IPY_MODEL_8c339e77332b43358046bb45592974a9",
       "value": " 100000/100000 [00:00&lt;00:00, 227022.74it/s]"
      }
     },
     "97dd848308ee4c6db1e130f9155baf06": {
      "model_module": "@jupyter-widgets/controls",
      "model_module_version": "1.5.0",
      "model_name": "HBoxModel",
      "state": {
       "children": [
        "IPY_MODEL_33726ed4df554aa9ba2d9381f5def6ff",
        "IPY_MODEL_79f64af247f04813ac49867762dcbfd5",
        "IPY_MODEL_73d9095002f84eee8ff67b4b3645f3f4"
       ],
       "layout": "IPY_MODEL_a17296ac78fd43eba1812200981e0b1f"
      }
     },
     "983dd8753654456990459ec127ed7805": {
      "model_module": "@jupyter-widgets/base",
      "model_module_version": "1.2.0",
      "model_name": "LayoutModel",
      "state": {}
     },
     "98ca046cc2d94ae3865ca5f804fafabf": {
      "model_module": "@jupyter-widgets/controls",
      "model_module_version": "1.5.0",
      "model_name": "ProgressStyleModel",
      "state": {
       "description_width": ""
      }
     },
     "9975d377b9b641a8b28e831c20e18dc9": {
      "model_module": "@jupyter-widgets/base",
      "model_module_version": "1.2.0",
      "model_name": "LayoutModel",
      "state": {}
     },
     "9a4f9d6f7c2d4b34b930eafbf5ce683b": {
      "model_module": "@jupyter-widgets/base",
      "model_module_version": "1.2.0",
      "model_name": "LayoutModel",
      "state": {}
     },
     "9c842d48a1b24940a8c02b6a5650ae4d": {
      "model_module": "@jupyter-widgets/base",
      "model_module_version": "1.2.0",
      "model_name": "LayoutModel",
      "state": {}
     },
     "9eaacd9cefd74f8ab68d036f407c8fa3": {
      "model_module": "@jupyter-widgets/controls",
      "model_module_version": "1.5.0",
      "model_name": "FloatProgressModel",
      "state": {
       "bar_style": "success",
       "layout": "IPY_MODEL_00a86818bbfb4935a8ddf0f8564101cd",
       "max": 2000,
       "style": "IPY_MODEL_d94b3f9aa06f4231bc1154d7ed815db9",
       "value": 2000
      }
     },
     "9ec8bcd5cf1a4fd2ac3420cd0b3f6e34": {
      "model_module": "@jupyter-widgets/controls",
      "model_module_version": "1.5.0",
      "model_name": "HTMLModel",
      "state": {
       "layout": "IPY_MODEL_ca60615c4d454206ae20c5156d702ec8",
       "style": "IPY_MODEL_8b7c8de7cf41432b928ba28d9b7cdd8e",
       "value": "Generating values: 100%"
      }
     },
     "9feeedba8d3c461ab96ea4f316f457ab": {
      "model_module": "@jupyter-widgets/base",
      "model_module_version": "1.2.0",
      "model_name": "LayoutModel",
      "state": {}
     },
     "a10bdc9bf1464680afeed0dc02fcf1fa": {
      "model_module": "@jupyter-widgets/base",
      "model_module_version": "1.2.0",
      "model_name": "LayoutModel",
      "state": {}
     },
     "a17296ac78fd43eba1812200981e0b1f": {
      "model_module": "@jupyter-widgets/base",
      "model_module_version": "1.2.0",
      "model_name": "LayoutModel",
      "state": {}
     },
     "a3bb9a7574eb4465824437122c88ae78": {
      "model_module": "@jupyter-widgets/controls",
      "model_module_version": "1.5.0",
      "model_name": "HTMLModel",
      "state": {
       "layout": "IPY_MODEL_b640e5c7862b4d598474740b8796d094",
       "style": "IPY_MODEL_286e9934c92e416784ede5b45827d438",
       "value": "Generating values: 100%"
      }
     },
     "a3fc8fe95113466ba63d973de8dda76e": {
      "model_module": "@jupyter-widgets/controls",
      "model_module_version": "1.5.0",
      "model_name": "HTMLModel",
      "state": {
       "layout": "IPY_MODEL_a9245779a4834cd4a71bc03d3ab98eef",
       "style": "IPY_MODEL_bc5a1a0d9702437ebb3c1f77e079f319",
       "value": " 100000/100000 [00:00&lt;00:00, 221901.77it/s]"
      }
     },
     "a402514211844295b0ecf760e23516dc": {
      "model_module": "@jupyter-widgets/base",
      "model_module_version": "1.2.0",
      "model_name": "LayoutModel",
      "state": {}
     },
     "a53c269e1b0d43cc998417f35beb5cee": {
      "model_module": "@jupyter-widgets/base",
      "model_module_version": "1.2.0",
      "model_name": "LayoutModel",
      "state": {}
     },
     "a57687b99d4f46109af295117aba8d5d": {
      "model_module": "@jupyter-widgets/base",
      "model_module_version": "1.2.0",
      "model_name": "LayoutModel",
      "state": {}
     },
     "a5c1698014a34cee9afc3f117fcadcb9": {
      "model_module": "@jupyter-widgets/base",
      "model_module_version": "1.2.0",
      "model_name": "LayoutModel",
      "state": {}
     },
     "a7ada2a685934c948dc1b80d64bb9f5c": {
      "model_module": "@jupyter-widgets/controls",
      "model_module_version": "1.5.0",
      "model_name": "HTMLModel",
      "state": {
       "layout": "IPY_MODEL_ec2dbf435b294e67a9514792353d8cbb",
       "style": "IPY_MODEL_74405be5921e42b1bb7d496c3cfdcf92",
       "value": " 1000/1000 [00:00&lt;00:00, 58770.09it/s]"
      }
     },
     "a9245779a4834cd4a71bc03d3ab98eef": {
      "model_module": "@jupyter-widgets/base",
      "model_module_version": "1.2.0",
      "model_name": "LayoutModel",
      "state": {}
     },
     "a99320ede6cd4113b5b36b744f418d3c": {
      "model_module": "@jupyter-widgets/controls",
      "model_module_version": "1.5.0",
      "model_name": "FloatProgressModel",
      "state": {
       "bar_style": "success",
       "layout": "IPY_MODEL_22fe1d97b28249d9bb365782e2e8fa7f",
       "max": 1000,
       "style": "IPY_MODEL_67ae3168307d4433b6fb51e04e1e5b94",
       "value": 1000
      }
     },
     "a9fcdf52a4d3417c84777ed865ab7658": {
      "model_module": "@jupyter-widgets/controls",
      "model_module_version": "1.5.0",
      "model_name": "DescriptionStyleModel",
      "state": {
       "description_width": ""
      }
     },
     "aa9987a14f81436c8e12971112ccc7e8": {
      "model_module": "@jupyter-widgets/base",
      "model_module_version": "1.2.0",
      "model_name": "LayoutModel",
      "state": {}
     },
     "aac6ddd9ede74b498a760bf6f91f12b9": {
      "model_module": "@jupyter-widgets/controls",
      "model_module_version": "1.5.0",
      "model_name": "HTMLModel",
      "state": {
       "layout": "IPY_MODEL_bea796a4697648bf8df996310950ced0",
       "style": "IPY_MODEL_dcdd9992189c4612a7a3245d08422a8a",
       "value": " 1000/1000 [00:00&lt;00:00, 58769.27it/s]"
      }
     },
     "ac508696eb8049f6a0aeb8b73139e9d1": {
      "model_module": "@jupyter-widgets/controls",
      "model_module_version": "1.5.0",
      "model_name": "HTMLModel",
      "state": {
       "layout": "IPY_MODEL_dec831c6be7247f894791f760987b185",
       "style": "IPY_MODEL_8e949f3a55b4465e95bc266a374bdf81",
       "value": " 100000/100000 [00:00&lt;00:00, 222599.58it/s]"
      }
     },
     "adb72ee0618e4f1f8fd4f84fbb9e8a1e": {
      "model_module": "@jupyter-widgets/controls",
      "model_module_version": "1.5.0",
      "model_name": "ProgressStyleModel",
      "state": {
       "description_width": ""
      }
     },
     "af05e8a23b2f491a9aac19c76f5e682e": {
      "model_module": "@jupyter-widgets/controls",
      "model_module_version": "1.5.0",
      "model_name": "HBoxModel",
      "state": {
       "children": [
        "IPY_MODEL_c0ed242c2d71467997d99c160a49d700",
        "IPY_MODEL_e83da2be18ee4af3b02bde7504dc8a97",
        "IPY_MODEL_8a30d1433c2d422da61be6c4458bf8a0"
       ],
       "layout": "IPY_MODEL_a53c269e1b0d43cc998417f35beb5cee"
      }
     },
     "b07aa3b97f2349b7b9b4cd90d7ca848f": {
      "model_module": "@jupyter-widgets/base",
      "model_module_version": "1.2.0",
      "model_name": "LayoutModel",
      "state": {}
     },
     "b118a970c07d4418934e8b4ef0c6b39a": {
      "model_module": "@jupyter-widgets/controls",
      "model_module_version": "1.5.0",
      "model_name": "DescriptionStyleModel",
      "state": {
       "description_width": ""
      }
     },
     "b18b561e5b444b4ca53e9ea0f09a8366": {
      "model_module": "@jupyter-widgets/controls",
      "model_module_version": "1.5.0",
      "model_name": "ProgressStyleModel",
      "state": {
       "description_width": ""
      }
     },
     "b24f8c8ad5744428b665eaebbf4f3d71": {
      "model_module": "@jupyter-widgets/base",
      "model_module_version": "1.2.0",
      "model_name": "LayoutModel",
      "state": {}
     },
     "b464238ac9ee4970819f9d206487ec9f": {
      "model_module": "@jupyter-widgets/controls",
      "model_module_version": "1.5.0",
      "model_name": "ProgressStyleModel",
      "state": {
       "description_width": ""
      }
     },
     "b4983af739d24140bb16d4bbc14ef0a1": {
      "model_module": "@jupyter-widgets/controls",
      "model_module_version": "1.5.0",
      "model_name": "HTMLModel",
      "state": {
       "layout": "IPY_MODEL_5d70331e21274f6f883ca30b188cfbb3",
       "style": "IPY_MODEL_0ab47962dda84dc8bb3923642562b69c",
       "value": "Generating values: 100%"
      }
     },
     "b4a7049460a4435b95d944e53325c773": {
      "model_module": "@jupyter-widgets/controls",
      "model_module_version": "1.5.0",
      "model_name": "DescriptionStyleModel",
      "state": {
       "description_width": ""
      }
     },
     "b640e5c7862b4d598474740b8796d094": {
      "model_module": "@jupyter-widgets/base",
      "model_module_version": "1.2.0",
      "model_name": "LayoutModel",
      "state": {}
     },
     "b7557e388ded44058d631bcfed68e34f": {
      "model_module": "@jupyter-widgets/base",
      "model_module_version": "1.2.0",
      "model_name": "LayoutModel",
      "state": {}
     },
     "b8158cc21fed4852b077a2afbf34d97e": {
      "model_module": "@jupyter-widgets/base",
      "model_module_version": "1.2.0",
      "model_name": "LayoutModel",
      "state": {}
     },
     "b87478c6ed214186b253bcc7894bc357": {
      "model_module": "@jupyter-widgets/controls",
      "model_module_version": "1.5.0",
      "model_name": "DescriptionStyleModel",
      "state": {
       "description_width": ""
      }
     },
     "b89fa731b39546bcb7bfe3eeeb5947e7": {
      "model_module": "@jupyter-widgets/controls",
      "model_module_version": "1.5.0",
      "model_name": "FloatProgressModel",
      "state": {
       "bar_style": "success",
       "layout": "IPY_MODEL_d973def90f5842f7b95fb5ede588d3f6",
       "max": 3000,
       "style": "IPY_MODEL_ead3edd189db42dbae30ad50e685a7ab",
       "value": 3000
      }
     },
     "b8effa355d344d90a58b33776185d18f": {
      "model_module": "@jupyter-widgets/base",
      "model_module_version": "1.2.0",
      "model_name": "LayoutModel",
      "state": {}
     },
     "ba64f4a628b24ed7beebab01194223ac": {
      "model_module": "@jupyter-widgets/controls",
      "model_module_version": "1.5.0",
      "model_name": "DescriptionStyleModel",
      "state": {
       "description_width": ""
      }
     },
     "bbb42e929068466c9c4c347bf6562039": {
      "model_module": "@jupyter-widgets/controls",
      "model_module_version": "1.5.0",
      "model_name": "FloatProgressModel",
      "state": {
       "bar_style": "success",
       "layout": "IPY_MODEL_478acab5e50e4a229f3dccfae003a67e",
       "max": 100000,
       "style": "IPY_MODEL_89c103d356da4a23a5e3a0c134e2e959",
       "value": 100000
      }
     },
     "bc5a1a0d9702437ebb3c1f77e079f319": {
      "model_module": "@jupyter-widgets/controls",
      "model_module_version": "1.5.0",
      "model_name": "DescriptionStyleModel",
      "state": {
       "description_width": ""
      }
     },
     "bd1496e3f3b542ebbd2468e930bdb61e": {
      "model_module": "@jupyter-widgets/controls",
      "model_module_version": "1.5.0",
      "model_name": "ProgressStyleModel",
      "state": {
       "description_width": ""
      }
     },
     "bda18ae29ce541fd86ff9c5a8ccdad67": {
      "model_module": "@jupyter-widgets/controls",
      "model_module_version": "1.5.0",
      "model_name": "HTMLModel",
      "state": {
       "layout": "IPY_MODEL_9a4f9d6f7c2d4b34b930eafbf5ce683b",
       "style": "IPY_MODEL_ba64f4a628b24ed7beebab01194223ac",
       "value": "Generating values:   0%"
      }
     },
     "bea796a4697648bf8df996310950ced0": {
      "model_module": "@jupyter-widgets/base",
      "model_module_version": "1.2.0",
      "model_name": "LayoutModel",
      "state": {}
     },
     "bf3ab4f2335843459076c52154822345": {
      "model_module": "@jupyter-widgets/controls",
      "model_module_version": "1.5.0",
      "model_name": "ProgressStyleModel",
      "state": {
       "description_width": ""
      }
     },
     "c0d4c06ba7b94161a88b3aad2c1a2b3e": {
      "model_module": "@jupyter-widgets/controls",
      "model_module_version": "1.5.0",
      "model_name": "HTMLModel",
      "state": {
       "layout": "IPY_MODEL_b8effa355d344d90a58b33776185d18f",
       "style": "IPY_MODEL_6b3bd2fb1a3a4d9283f693c5ba2a6a7c",
       "value": "Generating values: 100%"
      }
     },
     "c0ddba2504b942348d2ea7199fb66a42": {
      "model_module": "@jupyter-widgets/controls",
      "model_module_version": "1.5.0",
      "model_name": "ProgressStyleModel",
      "state": {
       "description_width": ""
      }
     },
     "c0ed242c2d71467997d99c160a49d700": {
      "model_module": "@jupyter-widgets/controls",
      "model_module_version": "1.5.0",
      "model_name": "HTMLModel",
      "state": {
       "layout": "IPY_MODEL_5b57d20eaf1045e1a289cfc6696bdc56",
       "style": "IPY_MODEL_d163cb0a890149ee97b8d7c100cf9592",
       "value": "Generating values: 100%"
      }
     },
     "c284dec629794cabb5a057c25ce80b18": {
      "model_module": "@jupyter-widgets/base",
      "model_module_version": "1.2.0",
      "model_name": "LayoutModel",
      "state": {}
     },
     "c5ca4d9a373247a9b37f58a7141c0544": {
      "model_module": "@jupyter-widgets/controls",
      "model_module_version": "1.5.0",
      "model_name": "ProgressStyleModel",
      "state": {
       "description_width": ""
      }
     },
     "c6aca3e2a1f84122ab23191a65cffb94": {
      "model_module": "@jupyter-widgets/controls",
      "model_module_version": "1.5.0",
      "model_name": "DescriptionStyleModel",
      "state": {
       "description_width": ""
      }
     },
     "c6ba47f6e2b74ca8a5de14cef9961429": {
      "model_module": "@jupyter-widgets/controls",
      "model_module_version": "1.5.0",
      "model_name": "FloatProgressModel",
      "state": {
       "bar_style": "success",
       "layout": "IPY_MODEL_cc3ec4a88abd413a869f0c4d6dae3b22",
       "max": 100000,
       "style": "IPY_MODEL_391f276f79844a3194773821c7f85e61",
       "value": 100000
      }
     },
     "c728524378314a988ed20de33dca53be": {
      "model_module": "@jupyter-widgets/base",
      "model_module_version": "1.2.0",
      "model_name": "LayoutModel",
      "state": {}
     },
     "c8161d64b99146e497d450f3c3d1f4b0": {
      "model_module": "@jupyter-widgets/controls",
      "model_module_version": "1.5.0",
      "model_name": "HTMLModel",
      "state": {
       "layout": "IPY_MODEL_e313dfe1bb6545fbb0af641ca16bebd2",
       "style": "IPY_MODEL_f0758999ffc14761a1228b15c1ea2b46",
       "value": "Generating values: 100%"
      }
     },
     "c816963ac5c54563b83d497904deb712": {
      "model_module": "@jupyter-widgets/base",
      "model_module_version": "1.2.0",
      "model_name": "LayoutModel",
      "state": {}
     },
     "c8bbd3e2a6af4f2aac500b231d1cfe8b": {
      "model_module": "@jupyter-widgets/controls",
      "model_module_version": "1.5.0",
      "model_name": "FloatProgressModel",
      "state": {
       "bar_style": "success",
       "layout": "IPY_MODEL_f0aeebb48d484b3bb9bec91be9ab123f",
       "max": 1000,
       "style": "IPY_MODEL_3d516838c03e43a8b08d508453f518b4",
       "value": 1000
      }
     },
     "c8cb4e5fa4fe4d9bb2e1702f659490a2": {
      "model_module": "@jupyter-widgets/controls",
      "model_module_version": "1.5.0",
      "model_name": "HTMLModel",
      "state": {
       "layout": "IPY_MODEL_910b80916419418996b9f734f8cbd673",
       "style": "IPY_MODEL_6618d58b5cf14b2baaad93b235fb5f8c",
       "value": "Generating values: 100%"
      }
     },
     "ca60615c4d454206ae20c5156d702ec8": {
      "model_module": "@jupyter-widgets/base",
      "model_module_version": "1.2.0",
      "model_name": "LayoutModel",
      "state": {}
     },
     "ca8fc70372c04adfb3f19bbc8b15d2f5": {
      "model_module": "@jupyter-widgets/base",
      "model_module_version": "1.2.0",
      "model_name": "LayoutModel",
      "state": {}
     },
     "caaf686f09c5447d89498e7cc1e3adae": {
      "model_module": "@jupyter-widgets/controls",
      "model_module_version": "1.5.0",
      "model_name": "DescriptionStyleModel",
      "state": {
       "description_width": ""
      }
     },
     "cbff8183b85147edb30a758f71b0e2ae": {
      "model_module": "@jupyter-widgets/base",
      "model_module_version": "1.2.0",
      "model_name": "LayoutModel",
      "state": {}
     },
     "cc3ec4a88abd413a869f0c4d6dae3b22": {
      "model_module": "@jupyter-widgets/base",
      "model_module_version": "1.2.0",
      "model_name": "LayoutModel",
      "state": {}
     },
     "cc8cbea20cec4ff5865e9f1dad91ff75": {
      "model_module": "@jupyter-widgets/controls",
      "model_module_version": "1.5.0",
      "model_name": "FloatProgressModel",
      "state": {
       "bar_style": "success",
       "layout": "IPY_MODEL_677861f2a5ca47b3b6fedeb4c175b52e",
       "max": 1000,
       "style": "IPY_MODEL_c0ddba2504b942348d2ea7199fb66a42",
       "value": 1000
      }
     },
     "ceecd5df3d86412fa8ba378845b1fe23": {
      "model_module": "@jupyter-widgets/controls",
      "model_module_version": "1.5.0",
      "model_name": "HTMLModel",
      "state": {
       "layout": "IPY_MODEL_02971568b87c46be89223949286eb347",
       "style": "IPY_MODEL_0726d30b276743bfb4bb988b446f0c2b",
       "value": "Generating values:   0%"
      }
     },
     "cfd5509cca364073958de01a709717ac": {
      "model_module": "@jupyter-widgets/controls",
      "model_module_version": "1.5.0",
      "model_name": "HBoxModel",
      "state": {
       "children": [
        "IPY_MODEL_c8cb4e5fa4fe4d9bb2e1702f659490a2",
        "IPY_MODEL_1e10df7e693b44b9a0745cec1205d990",
        "IPY_MODEL_62efb4e3c2d74f5ab787dbfddd483519"
       ],
       "layout": "IPY_MODEL_46983d7181bd494cb7723a152c4415e7"
      }
     },
     "d0a5244284ff4a9f86250dd9c82a0a81": {
      "model_module": "@jupyter-widgets/controls",
      "model_module_version": "1.5.0",
      "model_name": "DescriptionStyleModel",
      "state": {
       "description_width": ""
      }
     },
     "d0bd988323e84899af0305bf3d506605": {
      "model_module": "@jupyter-widgets/controls",
      "model_module_version": "1.5.0",
      "model_name": "HTMLModel",
      "state": {
       "layout": "IPY_MODEL_dbfd001044e244bcb79ad5ddf8ad2c5d",
       "style": "IPY_MODEL_83f065c389e944f2adda34d6ac099573",
       "value": "Generating values: 100%"
      }
     },
     "d0f73e95650c4ad4a91ad3bbe1cafadc": {
      "model_module": "@jupyter-widgets/controls",
      "model_module_version": "1.5.0",
      "model_name": "HTMLModel",
      "state": {
       "layout": "IPY_MODEL_3a1417d568ed4efbb17bef15d4c835f7",
       "style": "IPY_MODEL_220f9c33576b4d75b3d4be3555777472",
       "value": " 2000/2000 [00:00&lt;00:00, 95153.17it/s]"
      }
     },
     "d15f8d373d944e22bbedda7fe44a68df": {
      "model_module": "@jupyter-widgets/controls",
      "model_module_version": "1.5.0",
      "model_name": "HTMLModel",
      "state": {
       "layout": "IPY_MODEL_1835321f155f4729a1dcdf10136b3e0e",
       "style": "IPY_MODEL_7902ff9ce15a477580a09894890d1d9d",
       "value": "Generating values: 100%"
      }
     },
     "d163cb0a890149ee97b8d7c100cf9592": {
      "model_module": "@jupyter-widgets/controls",
      "model_module_version": "1.5.0",
      "model_name": "DescriptionStyleModel",
      "state": {
       "description_width": ""
      }
     },
     "d1fbd3f4fda441b6a9778abcf545a256": {
      "model_module": "@jupyter-widgets/controls",
      "model_module_version": "1.5.0",
      "model_name": "HTMLModel",
      "state": {
       "layout": "IPY_MODEL_7bc58048057b4c458d84bb275a73ff4d",
       "style": "IPY_MODEL_a9fcdf52a4d3417c84777ed865ab7658",
       "value": " 5000/5000 [00:00&lt;00:00, 142727.48it/s]"
      }
     },
     "d586c6e0213c4d2b8a4061cc399fafdb": {
      "model_module": "@jupyter-widgets/base",
      "model_module_version": "1.2.0",
      "model_name": "LayoutModel",
      "state": {}
     },
     "d66eb8ffda814ef8986b923c262dab73": {
      "model_module": "@jupyter-widgets/controls",
      "model_module_version": "1.5.0",
      "model_name": "FloatProgressModel",
      "state": {
       "bar_style": "success",
       "layout": "IPY_MODEL_8321a64dc26c441b9b6a2eef5014be35",
       "max": 5000,
       "style": "IPY_MODEL_3469309508af4635aaa33539fc827521",
       "value": 5000
      }
     },
     "d8d2c199afa14d34b721b83eeb330093": {
      "model_module": "@jupyter-widgets/controls",
      "model_module_version": "1.5.0",
      "model_name": "HTMLModel",
      "state": {
       "layout": "IPY_MODEL_db21ecdbb7d94327a65cd920d0001982",
       "style": "IPY_MODEL_14e83271d8d64720a027e20c35252d80",
       "value": " 100000/100000 [00:00&lt;00:00, 224947.16it/s]"
      }
     },
     "d94b3f9aa06f4231bc1154d7ed815db9": {
      "model_module": "@jupyter-widgets/controls",
      "model_module_version": "1.5.0",
      "model_name": "ProgressStyleModel",
      "state": {
       "description_width": ""
      }
     },
     "d973def90f5842f7b95fb5ede588d3f6": {
      "model_module": "@jupyter-widgets/base",
      "model_module_version": "1.2.0",
      "model_name": "LayoutModel",
      "state": {}
     },
     "da902ac2380845599b3967822ec329d0": {
      "model_module": "@jupyter-widgets/base",
      "model_module_version": "1.2.0",
      "model_name": "LayoutModel",
      "state": {}
     },
     "db21ecdbb7d94327a65cd920d0001982": {
      "model_module": "@jupyter-widgets/base",
      "model_module_version": "1.2.0",
      "model_name": "LayoutModel",
      "state": {}
     },
     "dbfd001044e244bcb79ad5ddf8ad2c5d": {
      "model_module": "@jupyter-widgets/base",
      "model_module_version": "1.2.0",
      "model_name": "LayoutModel",
      "state": {}
     },
     "dcb5f9acd17142cab231cdb4f94b2e88": {
      "model_module": "@jupyter-widgets/controls",
      "model_module_version": "1.5.0",
      "model_name": "HTMLModel",
      "state": {
       "layout": "IPY_MODEL_407de540dd6548c6a980d9ee7a2f1214",
       "style": "IPY_MODEL_b118a970c07d4418934e8b4ef0c6b39a",
       "value": "Generating values: 100%"
      }
     },
     "dcdd9992189c4612a7a3245d08422a8a": {
      "model_module": "@jupyter-widgets/controls",
      "model_module_version": "1.5.0",
      "model_name": "DescriptionStyleModel",
      "state": {
       "description_width": ""
      }
     },
     "dd1973f24dfd4326ae3bc26803ba8890": {
      "model_module": "@jupyter-widgets/controls",
      "model_module_version": "1.5.0",
      "model_name": "FloatProgressModel",
      "state": {
       "bar_style": "success",
       "layout": "IPY_MODEL_956ade7cbcdc4f2da6309ce2030a27ff",
       "max": 1000,
       "style": "IPY_MODEL_713da3ba4e034e44b9157aaad484d19a",
       "value": 1000
      }
     },
     "dec831c6be7247f894791f760987b185": {
      "model_module": "@jupyter-widgets/base",
      "model_module_version": "1.2.0",
      "model_name": "LayoutModel",
      "state": {}
     },
     "df70a72fd18441ec8441d50c5b60a5b9": {
      "model_module": "@jupyter-widgets/controls",
      "model_module_version": "1.5.0",
      "model_name": "HBoxModel",
      "state": {
       "children": [
        "IPY_MODEL_d0bd988323e84899af0305bf3d506605",
        "IPY_MODEL_4ce3759e94014f9baa38a911143beca6",
        "IPY_MODEL_f43d6d5b9e7446999ddebb61e8b26bc8"
       ],
       "layout": "IPY_MODEL_efeef67cdb9843f1ab3cc64053408e61"
      }
     },
     "e01283bd5c0b43ff938e98b90add19bf": {
      "model_module": "@jupyter-widgets/controls",
      "model_module_version": "1.5.0",
      "model_name": "HTMLModel",
      "state": {
       "layout": "IPY_MODEL_f052581b5dae479790c2b1c408400daf",
       "style": "IPY_MODEL_19a27039f6ef41cd8ee0b125674cce73",
       "value": "Generating values: 100%"
      }
     },
     "e0eee8bf04ad4c27a8ffc8d051d39066": {
      "model_module": "@jupyter-widgets/controls",
      "model_module_version": "1.5.0",
      "model_name": "FloatProgressModel",
      "state": {
       "bar_style": "danger",
       "layout": "IPY_MODEL_fa5d2ec501e94bb099fe30589cbf07fc",
       "max": 1000,
       "style": "IPY_MODEL_b18b561e5b444b4ca53e9ea0f09a8366"
      }
     },
     "e2084d5d444c47d0a703fae59fa9a918": {
      "model_module": "@jupyter-widgets/base",
      "model_module_version": "1.2.0",
      "model_name": "LayoutModel",
      "state": {}
     },
     "e255e3cbf85b4a50895dad6590074428": {
      "model_module": "@jupyter-widgets/base",
      "model_module_version": "1.2.0",
      "model_name": "LayoutModel",
      "state": {}
     },
     "e2639f5d96954fe08743296720e96697": {
      "model_module": "@jupyter-widgets/controls",
      "model_module_version": "1.5.0",
      "model_name": "ProgressStyleModel",
      "state": {
       "description_width": ""
      }
     },
     "e274346bfd274af5b0dde5d6e07966bb": {
      "model_module": "@jupyter-widgets/base",
      "model_module_version": "1.2.0",
      "model_name": "LayoutModel",
      "state": {}
     },
     "e313dfe1bb6545fbb0af641ca16bebd2": {
      "model_module": "@jupyter-widgets/base",
      "model_module_version": "1.2.0",
      "model_name": "LayoutModel",
      "state": {}
     },
     "e3cc2e0167e7409b81eb4973d15735ff": {
      "model_module": "@jupyter-widgets/controls",
      "model_module_version": "1.5.0",
      "model_name": "FloatProgressModel",
      "state": {
       "bar_style": "success",
       "layout": "IPY_MODEL_b24f8c8ad5744428b665eaebbf4f3d71",
       "style": "IPY_MODEL_18c783545be14758996ea598dd2ae9ab",
       "value": 100
      }
     },
     "e5addac520b34cbd9bb43869962d613a": {
      "model_module": "@jupyter-widgets/base",
      "model_module_version": "1.2.0",
      "model_name": "LayoutModel",
      "state": {}
     },
     "e81939889bd34e33ae610e3c37027ec1": {
      "model_module": "@jupyter-widgets/base",
      "model_module_version": "1.2.0",
      "model_name": "LayoutModel",
      "state": {}
     },
     "e828d631443b4e0baeac1db7c8f72cee": {
      "model_module": "@jupyter-widgets/controls",
      "model_module_version": "1.5.0",
      "model_name": "HBoxModel",
      "state": {
       "children": [
        "IPY_MODEL_c8161d64b99146e497d450f3c3d1f4b0",
        "IPY_MODEL_bbb42e929068466c9c4c347bf6562039",
        "IPY_MODEL_f447ec2b84894f5eb435199379caa760"
       ],
       "layout": "IPY_MODEL_8cfabcb508bb41e3a9b02f5df184897d"
      }
     },
     "e83da2be18ee4af3b02bde7504dc8a97": {
      "model_module": "@jupyter-widgets/controls",
      "model_module_version": "1.5.0",
      "model_name": "FloatProgressModel",
      "state": {
       "bar_style": "success",
       "layout": "IPY_MODEL_b8158cc21fed4852b077a2afbf34d97e",
       "max": 100000,
       "style": "IPY_MODEL_ecc6d4e3c8b04eff8352064dccd92a0e",
       "value": 100000
      }
     },
     "e909b05092ef41f0bde5f387118fcd02": {
      "model_module": "@jupyter-widgets/controls",
      "model_module_version": "1.5.0",
      "model_name": "HBoxModel",
      "state": {
       "children": [
        "IPY_MODEL_6b3cba4dbb464d77b8633fd0e9261cb2",
        "IPY_MODEL_300583e85a3d4ade8a1e4fa112aa713d",
        "IPY_MODEL_a7ada2a685934c948dc1b80d64bb9f5c"
       ],
       "layout": "IPY_MODEL_42a3adc87d69458a8d2806f8f6e557e0"
      }
     },
     "e945e0cef65d4ae3a8ac4395223b8aff": {
      "model_module": "@jupyter-widgets/base",
      "model_module_version": "1.2.0",
      "model_name": "LayoutModel",
      "state": {}
     },
     "ead3edd189db42dbae30ad50e685a7ab": {
      "model_module": "@jupyter-widgets/controls",
      "model_module_version": "1.5.0",
      "model_name": "ProgressStyleModel",
      "state": {
       "description_width": ""
      }
     },
     "ec2dbf435b294e67a9514792353d8cbb": {
      "model_module": "@jupyter-widgets/base",
      "model_module_version": "1.2.0",
      "model_name": "LayoutModel",
      "state": {}
     },
     "ecb8cc9829924cd386479256694cc7af": {
      "model_module": "@jupyter-widgets/base",
      "model_module_version": "1.2.0",
      "model_name": "LayoutModel",
      "state": {}
     },
     "ecbcd48d591149c99275ca3c0a1ae9b4": {
      "model_module": "@jupyter-widgets/controls",
      "model_module_version": "1.5.0",
      "model_name": "DescriptionStyleModel",
      "state": {
       "description_width": ""
      }
     },
     "ecc6d4e3c8b04eff8352064dccd92a0e": {
      "model_module": "@jupyter-widgets/controls",
      "model_module_version": "1.5.0",
      "model_name": "ProgressStyleModel",
      "state": {
       "description_width": ""
      }
     },
     "efeef67cdb9843f1ab3cc64053408e61": {
      "model_module": "@jupyter-widgets/base",
      "model_module_version": "1.2.0",
      "model_name": "LayoutModel",
      "state": {}
     },
     "f052581b5dae479790c2b1c408400daf": {
      "model_module": "@jupyter-widgets/base",
      "model_module_version": "1.2.0",
      "model_name": "LayoutModel",
      "state": {}
     },
     "f0758999ffc14761a1228b15c1ea2b46": {
      "model_module": "@jupyter-widgets/controls",
      "model_module_version": "1.5.0",
      "model_name": "DescriptionStyleModel",
      "state": {
       "description_width": ""
      }
     },
     "f0aeebb48d484b3bb9bec91be9ab123f": {
      "model_module": "@jupyter-widgets/base",
      "model_module_version": "1.2.0",
      "model_name": "LayoutModel",
      "state": {}
     },
     "f1313cf41e3a48d98b1e94db6776d8ea": {
      "model_module": "@jupyter-widgets/controls",
      "model_module_version": "1.5.0",
      "model_name": "ProgressStyleModel",
      "state": {
       "description_width": ""
      }
     },
     "f1617bd1e47f40f58147a7dafa4fd2a0": {
      "model_module": "@jupyter-widgets/base",
      "model_module_version": "1.2.0",
      "model_name": "LayoutModel",
      "state": {}
     },
     "f1eeeb79e5354d51bcb9e432dd2e8855": {
      "model_module": "@jupyter-widgets/controls",
      "model_module_version": "1.5.0",
      "model_name": "DescriptionStyleModel",
      "state": {
       "description_width": ""
      }
     },
     "f22ca857fd7f4121b266888831205aed": {
      "model_module": "@jupyter-widgets/base",
      "model_module_version": "1.2.0",
      "model_name": "LayoutModel",
      "state": {}
     },
     "f35040f9af354cbaa96e03a81045fbb6": {
      "model_module": "@jupyter-widgets/controls",
      "model_module_version": "1.5.0",
      "model_name": "FloatProgressModel",
      "state": {
       "bar_style": "success",
       "layout": "IPY_MODEL_7ffaf210f68b41f38c9de7c41b3e3706",
       "max": 2000,
       "style": "IPY_MODEL_f1313cf41e3a48d98b1e94db6776d8ea",
       "value": 2000
      }
     },
     "f3860cb6fc3847b9bce0a95c3dcf13c2": {
      "model_module": "@jupyter-widgets/base",
      "model_module_version": "1.2.0",
      "model_name": "LayoutModel",
      "state": {}
     },
     "f43d6d5b9e7446999ddebb61e8b26bc8": {
      "model_module": "@jupyter-widgets/controls",
      "model_module_version": "1.5.0",
      "model_name": "HTMLModel",
      "state": {
       "layout": "IPY_MODEL_4a78279b87f6475bb7781bb45edb415a",
       "style": "IPY_MODEL_1976151fd98243948720c4dd2244f92c",
       "value": " 100000/100000 [00:00&lt;00:00, 224531.41it/s]"
      }
     },
     "f447ec2b84894f5eb435199379caa760": {
      "model_module": "@jupyter-widgets/controls",
      "model_module_version": "1.5.0",
      "model_name": "HTMLModel",
      "state": {
       "layout": "IPY_MODEL_785ab253dec34a46a6abd54bc9f265f9",
       "style": "IPY_MODEL_718c1b33148240b4960e760f4c3961d1",
       "value": " 100000/100000 [00:00&lt;00:00, 224408.79it/s]"
      }
     },
     "f45bd0804c9a4ab181b447d8ee6ca17a": {
      "model_module": "@jupyter-widgets/base",
      "model_module_version": "1.2.0",
      "model_name": "LayoutModel",
      "state": {}
     },
     "f692f4ef479d48c08ffc71d840cf0562": {
      "model_module": "@jupyter-widgets/controls",
      "model_module_version": "1.5.0",
      "model_name": "HTMLModel",
      "state": {
       "layout": "IPY_MODEL_638ff0e16a6c40c4bc732fb4bcf2998d",
       "style": "IPY_MODEL_0d1ce6cab8b14c4d922b81d0cf62f0f7",
       "value": " 2000/2000 [00:00&lt;00:00, 95153.17it/s]"
      }
     },
     "f80fcb6b6bea4d04b240b6a655abfdc9": {
      "model_module": "@jupyter-widgets/base",
      "model_module_version": "1.2.0",
      "model_name": "LayoutModel",
      "state": {}
     },
     "f971508c57b04e1c86747a04673c3982": {
      "model_module": "@jupyter-widgets/base",
      "model_module_version": "1.2.0",
      "model_name": "LayoutModel",
      "state": {}
     },
     "fa5d2ec501e94bb099fe30589cbf07fc": {
      "model_module": "@jupyter-widgets/base",
      "model_module_version": "1.2.0",
      "model_name": "LayoutModel",
      "state": {}
     },
     "fb5aea7c44834ecaacc3f8ee1669de62": {
      "model_module": "@jupyter-widgets/controls",
      "model_module_version": "1.5.0",
      "model_name": "HTMLModel",
      "state": {
       "layout": "IPY_MODEL_0bfa1b8276994ea89910b25435f3372c",
       "style": "IPY_MODEL_8274f2ca29944e318bbcf40d774a1bfb",
       "value": " 100000/100000 [00:00&lt;00:00, 224948.08it/s]"
      }
     },
     "fd4c436f4f044a59a2c797ca811aeee0": {
      "model_module": "@jupyter-widgets/controls",
      "model_module_version": "1.5.0",
      "model_name": "HBoxModel",
      "state": {
       "children": [
        "IPY_MODEL_0830ba9ed52a44dab8ebacbd17997068",
        "IPY_MODEL_2a250f38f75b430798e6119809a71f9f",
        "IPY_MODEL_97d10302451640728727f0586d5ad70d"
       ],
       "layout": "IPY_MODEL_a402514211844295b0ecf760e23516dc"
      }
     },
     "fd967be9eca4496a85dec3b01f448e41": {
      "model_module": "@jupyter-widgets/controls",
      "model_module_version": "1.5.0",
      "model_name": "HTMLModel",
      "state": {
       "layout": "IPY_MODEL_658a76cf4c4d465d8cd8f4b699fb4a11",
       "style": "IPY_MODEL_8612440aab9f4b249b8fb27bb26f6d49",
       "value": " 100/100 [00:00&lt;00:00, 8325.67it/s]"
      }
     },
     "fdd0e21f45784faea272c73cce35751a": {
      "model_module": "@jupyter-widgets/controls",
      "model_module_version": "1.5.0",
      "model_name": "HTMLModel",
      "state": {
       "layout": "IPY_MODEL_a10bdc9bf1464680afeed0dc02fcf1fa",
       "style": "IPY_MODEL_81931a0e1a714088a62ae04f987a706c",
       "value": " 1000/1000 [00:00&lt;00:00, 62443.11it/s]"
      }
     },
     "fe35a7e70e2f4c9fb79f356621753de5": {
      "model_module": "@jupyter-widgets/controls",
      "model_module_version": "1.5.0",
      "model_name": "HTMLModel",
      "state": {
       "layout": "IPY_MODEL_f971508c57b04e1c86747a04673c3982",
       "style": "IPY_MODEL_3b1193393e2e49d09cf21a0dbeb7b2b1",
       "value": "Generating values: 100%"
      }
     }
    },
    "version_major": 2,
    "version_minor": 0
   }
  }
 },
 "nbformat": 4,
 "nbformat_minor": 1
}
